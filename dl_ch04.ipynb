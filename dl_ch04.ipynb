{
 "cells": [
  {
   "cell_type": "code",
   "execution_count": 1,
   "id": "occupational-consent",
   "metadata": {},
   "outputs": [],
   "source": [
    "import matplotlib.pyplot as plt\n",
    "import numpy as np\n",
    "\n",
    "\n",
    "from tensorflow.keras.datasets import imdb\n",
    "from tensorflow import keras"
   ]
  },
  {
   "cell_type": "markdown",
   "id": "expressed-oliver",
   "metadata": {},
   "source": [
    "# Classifying movie reviews: IMDB"
   ]
  },
  {
   "cell_type": "code",
   "execution_count": 2,
   "id": "hollywood-specification",
   "metadata": {},
   "outputs": [
    {
     "name": "stderr",
     "output_type": "stream",
     "text": [
      "<__array_function__ internals>:5: VisibleDeprecationWarning: Creating an ndarray from ragged nested sequences (which is a list-or-tuple of lists-or-tuples-or ndarrays with different lengths or shapes) is deprecated. If you meant to do this, you must specify 'dtype=object' when creating the ndarray\n",
      "c:\\tools\\miniconda3\\envs\\ml\\lib\\site-packages\\tensorflow\\python\\keras\\datasets\\imdb.py:159: VisibleDeprecationWarning: Creating an ndarray from ragged nested sequences (which is a list-or-tuple of lists-or-tuples-or ndarrays with different lengths or shapes) is deprecated. If you meant to do this, you must specify 'dtype=object' when creating the ndarray\n",
      "  x_train, y_train = np.array(xs[:idx]), np.array(labels[:idx])\n",
      "c:\\tools\\miniconda3\\envs\\ml\\lib\\site-packages\\tensorflow\\python\\keras\\datasets\\imdb.py:160: VisibleDeprecationWarning: Creating an ndarray from ragged nested sequences (which is a list-or-tuple of lists-or-tuples-or ndarrays with different lengths or shapes) is deprecated. If you meant to do this, you must specify 'dtype=object' when creating the ndarray\n",
      "  x_test, y_test = np.array(xs[idx:]), np.array(labels[idx:])\n"
     ]
    }
   ],
   "source": [
    "(train_data, train_labels), (test_data, test_labels) = imdb.load_data(num_words=10000)"
   ]
  },
  {
   "cell_type": "code",
   "execution_count": 3,
   "id": "governing-anchor",
   "metadata": {
    "scrolled": true
   },
   "outputs": [
    {
     "data": {
      "text/plain": [
       "[1,\n",
       " 14,\n",
       " 22,\n",
       " 16,\n",
       " 43,\n",
       " 530,\n",
       " 973,\n",
       " 1622,\n",
       " 1385,\n",
       " 65,\n",
       " 458,\n",
       " 4468,\n",
       " 66,\n",
       " 3941,\n",
       " 4,\n",
       " 173,\n",
       " 36,\n",
       " 256,\n",
       " 5,\n",
       " 25,\n",
       " 100,\n",
       " 43,\n",
       " 838,\n",
       " 112,\n",
       " 50,\n",
       " 670,\n",
       " 2,\n",
       " 9,\n",
       " 35,\n",
       " 480,\n",
       " 284,\n",
       " 5,\n",
       " 150,\n",
       " 4,\n",
       " 172,\n",
       " 112,\n",
       " 167,\n",
       " 2,\n",
       " 336,\n",
       " 385,\n",
       " 39,\n",
       " 4,\n",
       " 172,\n",
       " 4536,\n",
       " 1111,\n",
       " 17,\n",
       " 546,\n",
       " 38,\n",
       " 13,\n",
       " 447,\n",
       " 4,\n",
       " 192,\n",
       " 50,\n",
       " 16,\n",
       " 6,\n",
       " 147,\n",
       " 2025,\n",
       " 19,\n",
       " 14,\n",
       " 22,\n",
       " 4,\n",
       " 1920,\n",
       " 4613,\n",
       " 469,\n",
       " 4,\n",
       " 22,\n",
       " 71,\n",
       " 87,\n",
       " 12,\n",
       " 16,\n",
       " 43,\n",
       " 530,\n",
       " 38,\n",
       " 76,\n",
       " 15,\n",
       " 13,\n",
       " 1247,\n",
       " 4,\n",
       " 22,\n",
       " 17,\n",
       " 515,\n",
       " 17,\n",
       " 12,\n",
       " 16,\n",
       " 626,\n",
       " 18,\n",
       " 2,\n",
       " 5,\n",
       " 62,\n",
       " 386,\n",
       " 12,\n",
       " 8,\n",
       " 316,\n",
       " 8,\n",
       " 106,\n",
       " 5,\n",
       " 4,\n",
       " 2223,\n",
       " 5244,\n",
       " 16,\n",
       " 480,\n",
       " 66,\n",
       " 3785,\n",
       " 33,\n",
       " 4,\n",
       " 130,\n",
       " 12,\n",
       " 16,\n",
       " 38,\n",
       " 619,\n",
       " 5,\n",
       " 25,\n",
       " 124,\n",
       " 51,\n",
       " 36,\n",
       " 135,\n",
       " 48,\n",
       " 25,\n",
       " 1415,\n",
       " 33,\n",
       " 6,\n",
       " 22,\n",
       " 12,\n",
       " 215,\n",
       " 28,\n",
       " 77,\n",
       " 52,\n",
       " 5,\n",
       " 14,\n",
       " 407,\n",
       " 16,\n",
       " 82,\n",
       " 2,\n",
       " 8,\n",
       " 4,\n",
       " 107,\n",
       " 117,\n",
       " 5952,\n",
       " 15,\n",
       " 256,\n",
       " 4,\n",
       " 2,\n",
       " 7,\n",
       " 3766,\n",
       " 5,\n",
       " 723,\n",
       " 36,\n",
       " 71,\n",
       " 43,\n",
       " 530,\n",
       " 476,\n",
       " 26,\n",
       " 400,\n",
       " 317,\n",
       " 46,\n",
       " 7,\n",
       " 4,\n",
       " 2,\n",
       " 1029,\n",
       " 13,\n",
       " 104,\n",
       " 88,\n",
       " 4,\n",
       " 381,\n",
       " 15,\n",
       " 297,\n",
       " 98,\n",
       " 32,\n",
       " 2071,\n",
       " 56,\n",
       " 26,\n",
       " 141,\n",
       " 6,\n",
       " 194,\n",
       " 7486,\n",
       " 18,\n",
       " 4,\n",
       " 226,\n",
       " 22,\n",
       " 21,\n",
       " 134,\n",
       " 476,\n",
       " 26,\n",
       " 480,\n",
       " 5,\n",
       " 144,\n",
       " 30,\n",
       " 5535,\n",
       " 18,\n",
       " 51,\n",
       " 36,\n",
       " 28,\n",
       " 224,\n",
       " 92,\n",
       " 25,\n",
       " 104,\n",
       " 4,\n",
       " 226,\n",
       " 65,\n",
       " 16,\n",
       " 38,\n",
       " 1334,\n",
       " 88,\n",
       " 12,\n",
       " 16,\n",
       " 283,\n",
       " 5,\n",
       " 16,\n",
       " 4472,\n",
       " 113,\n",
       " 103,\n",
       " 32,\n",
       " 15,\n",
       " 16,\n",
       " 5345,\n",
       " 19,\n",
       " 178,\n",
       " 32]"
      ]
     },
     "execution_count": 3,
     "metadata": {},
     "output_type": "execute_result"
    }
   ],
   "source": [
    "train_data[0]"
   ]
  },
  {
   "cell_type": "code",
   "execution_count": 4,
   "id": "disciplinary-issue",
   "metadata": {},
   "outputs": [
    {
     "data": {
      "text/plain": [
       "1"
      ]
     },
     "execution_count": 4,
     "metadata": {},
     "output_type": "execute_result"
    }
   ],
   "source": [
    "train_labels[0]"
   ]
  },
  {
   "cell_type": "code",
   "execution_count": 5,
   "id": "utility-update",
   "metadata": {},
   "outputs": [
    {
     "data": {
      "text/plain": [
       "9999"
      ]
     },
     "execution_count": 5,
     "metadata": {},
     "output_type": "execute_result"
    }
   ],
   "source": [
    "max(max(sequence) for sequence in train_data)"
   ]
  },
  {
   "cell_type": "code",
   "execution_count": 6,
   "id": "automated-mountain",
   "metadata": {},
   "outputs": [
    {
     "data": {
      "text/plain": [
       "\"? this film was just brilliant casting location scenery story direction everyone's really suited the part they played and you could just imagine being there robert ? is an amazing actor and now the same being director ? father came from the same scottish island as myself so i loved the fact there was a real connection with this film the witty remarks throughout the film were great it was just brilliant so much that i bought the film as soon as it was released for ? and would recommend it to everyone to watch and the fly fishing was amazing really cried at the end it was so sad and you know what they say if you cry at a film it must have been good and this definitely was also ? to the two little boy's that played the ? of norman and paul they were just brilliant children are often left out of the ? list i think because the stars that play them all grown up are such a big profile for the whole film but these children are amazing and should be praised for what they have done don't you think the whole story was so lovely because it was true and was someone's life after all that was shared with us all\""
      ]
     },
     "execution_count": 6,
     "metadata": {},
     "output_type": "execute_result"
    }
   ],
   "source": [
    "word_index = imdb.get_word_index()\n",
    "reverse_word_index = {v:k for k,v in word_index.items()}\n",
    "decoded_review = ' '.join(reverse_word_index.get(i - 3, '?') for i in train_data[0])\n",
    "\n",
    "decoded_review"
   ]
  },
  {
   "cell_type": "code",
   "execution_count": 7,
   "id": "elect-circle",
   "metadata": {},
   "outputs": [],
   "source": [
    "def vectorize_sequences(sequences, dimension=10000):\n",
    "    results = np.zeros((len(sequences), dimension))\n",
    "    for i, sequence in enumerate(sequences):\n",
    "        results[i, sequence] = 1.\n",
    "    return results\n",
    "\n",
    "x_train = vectorize_sequences(train_data)\n",
    "x_test = vectorize_sequences(test_data)"
   ]
  },
  {
   "cell_type": "code",
   "execution_count": 8,
   "id": "coral-taste",
   "metadata": {},
   "outputs": [
    {
     "data": {
      "text/plain": [
       "array([[0., 1., 1., ..., 0., 0., 0.],\n",
       "       [0., 1., 1., ..., 0., 0., 0.],\n",
       "       [0., 1., 1., ..., 0., 0., 0.],\n",
       "       ...,\n",
       "       [0., 1., 1., ..., 0., 0., 0.],\n",
       "       [0., 1., 1., ..., 0., 0., 0.],\n",
       "       [0., 1., 1., ..., 0., 0., 0.]])"
      ]
     },
     "execution_count": 8,
     "metadata": {},
     "output_type": "execute_result"
    }
   ],
   "source": [
    "x_train"
   ]
  },
  {
   "cell_type": "code",
   "execution_count": 9,
   "id": "recorded-government",
   "metadata": {},
   "outputs": [],
   "source": [
    "y_train = np.asarray(train_labels).astype('float32')\n",
    "y_test = np.asarray(test_labels).astype('float32')"
   ]
  },
  {
   "attachments": {
    "de09cf95-6ba9-4908-9ca1-03fc791f18b2.png": {
     "image/png": "[encoded data removed]"
    }
   },
   "cell_type": "markdown",
   "id": "spare-command",
   "metadata": {},
   "source": [
    "## Building your model\n",
    "\n",
    "The input data is vectors, and the labels are scalars (1s and 0s): this is one of the simplest problem setups you’ll ever encounter. A type of model that performs well on such a problem is a plain stack of densely-connected (Dense) layers with relu activations.\n",
    "\n",
    "There are two key architecture decisions to be made about such a stack of Dense layers:\n",
    "\n",
    "    How many layers to use\n",
    "    How many units to choose for each layer\n",
    "    \n",
    "![grafik.png](attachment:de09cf95-6ba9-4908-9ca1-03fc791f18b2.png)"
   ]
  },
  {
   "cell_type": "code",
   "execution_count": 7,
   "id": "large-peninsula",
   "metadata": {},
   "outputs": [],
   "source": [
    "model = keras.Sequential([\n",
    "  keras.layers.Dense(16, activation='relu'),\n",
    "  keras.layers.Dense(16, activation='relu'),\n",
    "  keras.layers.Dense(1, activation='sigmoid')\n",
    "])"
   ]
  },
  {
   "cell_type": "code",
   "execution_count": 8,
   "id": "temporal-event",
   "metadata": {},
   "outputs": [],
   "source": [
    "model.compile(optimizer='rmsprop',\n",
    "              loss='binary_crossentropy',\n",
    "              metrics=['accuracy'])"
   ]
  },
  {
   "cell_type": "code",
   "execution_count": 9,
   "id": "front-darwin",
   "metadata": {},
   "outputs": [],
   "source": [
    "x_val = x_train[:10000]\n",
    "partial_x_train = x_train[10000:]\n",
    "y_val = y_train[:10000]\n",
    "partial_y_train = y_train[10000:]"
   ]
  },
  {
   "cell_type": "code",
   "execution_count": 10,
   "id": "ordinary-couple",
   "metadata": {
    "scrolled": true
   },
   "outputs": [
    {
     "name": "stdout",
     "output_type": "stream",
     "text": [
      "Epoch 1/20\n",
      "30/30 [==============================] - 2s 35ms/step - loss: 0.6394 - accuracy: 0.6110 - val_loss: 0.4354 - val_accuracy: 0.8635\n",
      "Epoch 2/20\n",
      "30/30 [==============================] - 0s 11ms/step - loss: 0.3710 - accuracy: 0.8884 - val_loss: 0.3300 - val_accuracy: 0.8757\n",
      "Epoch 3/20\n",
      "30/30 [==============================] - 0s 11ms/step - loss: 0.2488 - accuracy: 0.9258 - val_loss: 0.2848 - val_accuracy: 0.8905\n",
      "Epoch 4/20\n",
      "30/30 [==============================] - 0s 11ms/step - loss: 0.1956 - accuracy: 0.9362 - val_loss: 0.2840 - val_accuracy: 0.8889\n",
      "Epoch 5/20\n",
      "30/30 [==============================] - 0s 11ms/step - loss: 0.1503 - accuracy: 0.9560 - val_loss: 0.2808 - val_accuracy: 0.8859\n",
      "Epoch 6/20\n",
      "30/30 [==============================] - 0s 11ms/step - loss: 0.1200 - accuracy: 0.9648 - val_loss: 0.3245 - val_accuracy: 0.8745\n",
      "Epoch 7/20\n",
      "30/30 [==============================] - 0s 11ms/step - loss: 0.1004 - accuracy: 0.9709 - val_loss: 0.3054 - val_accuracy: 0.8845\n",
      "Epoch 8/20\n",
      "30/30 [==============================] - 0s 11ms/step - loss: 0.0774 - accuracy: 0.9812 - val_loss: 0.3428 - val_accuracy: 0.8805\n",
      "Epoch 9/20\n",
      "30/30 [==============================] - 0s 11ms/step - loss: 0.0612 - accuracy: 0.9866 - val_loss: 0.3536 - val_accuracy: 0.8815\n",
      "Epoch 10/20\n",
      "30/30 [==============================] - 0s 11ms/step - loss: 0.0512 - accuracy: 0.9888 - val_loss: 0.3826 - val_accuracy: 0.8746\n",
      "Epoch 11/20\n",
      "30/30 [==============================] - 0s 11ms/step - loss: 0.0393 - accuracy: 0.9916 - val_loss: 0.4018 - val_accuracy: 0.8765\n",
      "Epoch 12/20\n",
      "30/30 [==============================] - 0s 11ms/step - loss: 0.0283 - accuracy: 0.9956 - val_loss: 0.4507 - val_accuracy: 0.8751\n",
      "Epoch 13/20\n",
      "30/30 [==============================] - 0s 11ms/step - loss: 0.0244 - accuracy: 0.9962 - val_loss: 0.4676 - val_accuracy: 0.8751\n",
      "Epoch 14/20\n",
      "30/30 [==============================] - 0s 11ms/step - loss: 0.0193 - accuracy: 0.9970 - val_loss: 0.5242 - val_accuracy: 0.8634\n",
      "Epoch 15/20\n",
      "30/30 [==============================] - 0s 11ms/step - loss: 0.0136 - accuracy: 0.9990 - val_loss: 0.5356 - val_accuracy: 0.8708\n",
      "Epoch 16/20\n",
      "30/30 [==============================] - 0s 11ms/step - loss: 0.0089 - accuracy: 0.9992 - val_loss: 0.5733 - val_accuracy: 0.8697\n",
      "Epoch 17/20\n",
      "30/30 [==============================] - 0s 11ms/step - loss: 0.0074 - accuracy: 0.9993 - val_loss: 0.6078 - val_accuracy: 0.8689\n",
      "Epoch 18/20\n",
      "30/30 [==============================] - 0s 11ms/step - loss: 0.0043 - accuracy: 1.0000 - val_loss: 0.6405 - val_accuracy: 0.8686\n",
      "Epoch 19/20\n",
      "30/30 [==============================] - 0s 11ms/step - loss: 0.0046 - accuracy: 0.9996 - val_loss: 0.6784 - val_accuracy: 0.8697\n",
      "Epoch 20/20\n",
      "30/30 [==============================] - 0s 10ms/step - loss: 0.0025 - accuracy: 0.9999 - val_loss: 0.7083 - val_accuracy: 0.8687\n"
     ]
    }
   ],
   "source": [
    "history = model.fit(partial_x_train,\n",
    "                    partial_y_train,\n",
    "                    epochs=20,\n",
    "                    batch_size=512,\n",
    "                    validation_data=(x_val, y_val))"
   ]
  },
  {
   "cell_type": "code",
   "execution_count": 11,
   "id": "stupid-obligation",
   "metadata": {},
   "outputs": [
    {
     "name": "stdout",
     "output_type": "stream",
     "text": [
      "Model: \"sequential\"\n",
      "_________________________________________________________________\n",
      "Layer (type)                 Output Shape              Param #   \n",
      "=================================================================\n",
      "dense (Dense)                (None, 16)                160016    \n",
      "_________________________________________________________________\n",
      "dense_1 (Dense)              (None, 16)                272       \n",
      "_________________________________________________________________\n",
      "dense_2 (Dense)              (None, 1)                 17        \n",
      "=================================================================\n",
      "Total params: 160,305\n",
      "Trainable params: 160,305\n",
      "Non-trainable params: 0\n",
      "_________________________________________________________________\n"
     ]
    }
   ],
   "source": [
    "model.summary()"
   ]
  },
  {
   "cell_type": "code",
   "execution_count": 12,
   "id": "interstate-realtor",
   "metadata": {},
   "outputs": [
    {
     "data": {
      "text/plain": [
       "dict_keys(['loss', 'accuracy', 'val_loss', 'val_accuracy'])"
      ]
     },
     "execution_count": 12,
     "metadata": {},
     "output_type": "execute_result"
    }
   ],
   "source": [
    "history_dict = history.history\n",
    "history_dict.keys()"
   ]
  },
  {
   "cell_type": "code",
   "execution_count": 19,
   "id": "challenging-temperature",
   "metadata": {},
   "outputs": [
    {
     "data": {
      "text/plain": [
       "<matplotlib.legend.Legend at 0x22d9f2e07c0>"
      ]
     },
     "execution_count": 19,
     "metadata": {},
     "output_type": "execute_result"
    },
    {
     "data": {
      "image/png": "[encoded data removed]",
      "text/plain": [
       "<Figure size 432x288 with 1 Axes>"
      ]
     },
     "metadata": {
      "needs_background": "light"
     },
     "output_type": "display_data"
    }
   ],
   "source": [
    "history_dict = history.history\n",
    "loss_values = history_dict['loss']\n",
    "val_loss_values = history_dict['val_loss']\n",
    "epochs = range(1, len(loss_values) + 1)\n",
    "\n",
    "plt.plot(epochs, loss_values, 'bo', label='Training loss')\n",
    "plt.plot(epochs, val_loss_values, 'b', label='Validation loss')\n",
    "plt.title('Training and validation loss')\n",
    "plt.xlabel('Epochs')\n",
    "plt.ylabel('Loss')\n",
    "plt.legend()"
   ]
  },
  {
   "cell_type": "code",
   "execution_count": 24,
   "id": "wired-richards",
   "metadata": {},
   "outputs": [
    {
     "data": {
      "text/plain": [
       "<matplotlib.legend.Legend at 0x22d9f45a820>"
      ]
     },
     "execution_count": 24,
     "metadata": {},
     "output_type": "execute_result"
    },
    {
     "data": {
      "image/png": "[encoded data removed]",
      "text/plain": [
       "<Figure size 432x288 with 1 Axes>"
      ]
     },
     "metadata": {
      "needs_background": "light"
     },
     "output_type": "display_data"
    }
   ],
   "source": [
    "plt.clf()\n",
    "acc = history_dict['accuracy']\n",
    "val_acc = history_dict['val_accuracy']\n",
    "\n",
    "plt.plot(epochs, acc, 'bo', label='Training acc')\n",
    "plt.plot(epochs, val_acc, 'b', label='Validation acc')\n",
    "plt.title('Training and validation accuracy')\n",
    "plt.xlabel('Epochs')\n",
    "plt.ylabel('Accuracy')\n",
    "plt.legend()"
   ]
  },
  {
   "cell_type": "code",
   "execution_count": 30,
   "id": "reported-secretariat",
   "metadata": {},
   "outputs": [
    {
     "name": "stdout",
     "output_type": "stream",
     "text": [
      "Epoch 1/4\n",
      "49/49 [==============================] - 1s 17ms/step - loss: 0.5477 - accuracy: 0.7496 - val_loss: 0.3057 - val_accuracy: 0.9054\n",
      "Epoch 2/4\n",
      "49/49 [==============================] - 1s 11ms/step - loss: 0.2837 - accuracy: 0.9083 - val_loss: 0.2117 - val_accuracy: 0.9295\n",
      "Epoch 3/4\n",
      "49/49 [==============================] - 1s 11ms/step - loss: 0.2080 - accuracy: 0.9278 - val_loss: 0.1624 - val_accuracy: 0.9495\n",
      "Epoch 4/4\n",
      "49/49 [==============================] - 1s 11ms/step - loss: 0.1669 - accuracy: 0.9430 - val_loss: 0.1346 - val_accuracy: 0.9575\n",
      "782/782 [==============================] - 1s 987us/step - loss: 0.2892 - accuracy: 0.8857\n"
     ]
    }
   ],
   "source": [
    "# the model overfits so we train a new model for only four epochs\n",
    "model = keras.Sequential([\n",
    "    keras.layers.Dense(16, activation='relu'),\n",
    "    keras.layers.Dense(16, activation='relu'),\n",
    "    keras.layers.Dense(1, activation='sigmoid')\n",
    "])\n",
    "model.compile(optimizer='rmsprop',\n",
    "              loss='binary_crossentropy',\n",
    "              metrics=['accuracy'])\n",
    "model.fit(x_train, y_train, epochs=4, batch_size=512, validation_data=(x_val, y_val))\n",
    "results = model.evaluate(x_test, y_test, return_dict=True)"
   ]
  },
  {
   "cell_type": "code",
   "execution_count": 31,
   "id": "elect-bidder",
   "metadata": {},
   "outputs": [
    {
     "data": {
      "text/plain": [
       "{'loss': 0.2891869843006134, 'accuracy': 0.8857200145721436}"
      ]
     },
     "execution_count": 31,
     "metadata": {},
     "output_type": "execute_result"
    }
   ],
   "source": [
    "results"
   ]
  },
  {
   "cell_type": "code",
   "execution_count": 28,
   "id": "parental-office",
   "metadata": {},
   "outputs": [
    {
     "data": {
      "text/plain": [
       "array([[0.19458747],\n",
       "       [0.9996729 ],\n",
       "       [0.85472643],\n",
       "       ...,\n",
       "       [0.1330226 ],\n",
       "       [0.0818207 ],\n",
       "       [0.53804475]], dtype=float32)"
      ]
     },
     "execution_count": 28,
     "metadata": {},
     "output_type": "execute_result"
    }
   ],
   "source": [
    "model.predict(x_test)"
   ]
  },
  {
   "cell_type": "markdown",
   "id": "meaningful-nancy",
   "metadata": {},
   "source": [
    "## Experiments"
   ]
  },
  {
   "cell_type": "code",
   "execution_count": 35,
   "id": "retained-lawyer",
   "metadata": {
    "scrolled": true
   },
   "outputs": [
    {
     "name": "stdout",
     "output_type": "stream",
     "text": [
      "Epoch 1/20\n",
      "30/30 [==============================] - 1s 20ms/step - loss: 0.5787 - accuracy: 0.6987 - val_loss: 0.3965 - val_accuracy: 0.8649\n",
      "Epoch 2/20\n",
      "30/30 [==============================] - 0s 13ms/step - loss: 0.3392 - accuracy: 0.9018 - val_loss: 0.3361 - val_accuracy: 0.8748\n",
      "Epoch 3/20\n",
      "30/30 [==============================] - 0s 13ms/step - loss: 0.2599 - accuracy: 0.9231 - val_loss: 0.2967 - val_accuracy: 0.8868\n",
      "Epoch 4/20\n",
      "30/30 [==============================] - 0s 13ms/step - loss: 0.2054 - accuracy: 0.9388 - val_loss: 0.2793 - val_accuracy: 0.8899\n",
      "Epoch 5/20\n",
      "30/30 [==============================] - 0s 13ms/step - loss: 0.1749 - accuracy: 0.9497 - val_loss: 0.2754 - val_accuracy: 0.8895\n",
      "Epoch 6/20\n",
      "30/30 [==============================] - 0s 13ms/step - loss: 0.1517 - accuracy: 0.9544 - val_loss: 0.3143 - val_accuracy: 0.8750\n",
      "Epoch 7/20\n",
      "30/30 [==============================] - 0s 13ms/step - loss: 0.1314 - accuracy: 0.9638 - val_loss: 0.2795 - val_accuracy: 0.8892\n",
      "Epoch 8/20\n",
      "30/30 [==============================] - 0s 13ms/step - loss: 0.1086 - accuracy: 0.9723 - val_loss: 0.2994 - val_accuracy: 0.8803\n",
      "Epoch 9/20\n",
      "30/30 [==============================] - 0s 13ms/step - loss: 0.1004 - accuracy: 0.9746 - val_loss: 0.3033 - val_accuracy: 0.8841\n",
      "Epoch 10/20\n",
      "30/30 [==============================] - 0s 13ms/step - loss: 0.0910 - accuracy: 0.9758 - val_loss: 0.3054 - val_accuracy: 0.8857\n",
      "Epoch 11/20\n",
      "30/30 [==============================] - 0s 13ms/step - loss: 0.0774 - accuracy: 0.9814 - val_loss: 0.3166 - val_accuracy: 0.8806\n",
      "Epoch 12/20\n",
      "30/30 [==============================] - 0s 14ms/step - loss: 0.0671 - accuracy: 0.9847 - val_loss: 0.3339 - val_accuracy: 0.8761\n",
      "Epoch 13/20\n",
      "30/30 [==============================] - 0s 13ms/step - loss: 0.0626 - accuracy: 0.9879 - val_loss: 0.3523 - val_accuracy: 0.8796\n",
      "Epoch 14/20\n",
      "30/30 [==============================] - 0s 13ms/step - loss: 0.0536 - accuracy: 0.9884 - val_loss: 0.3621 - val_accuracy: 0.8754\n",
      "Epoch 15/20\n",
      "30/30 [==============================] - 0s 13ms/step - loss: 0.0472 - accuracy: 0.9920 - val_loss: 0.3754 - val_accuracy: 0.8791\n",
      "Epoch 16/20\n",
      "30/30 [==============================] - 0s 13ms/step - loss: 0.0429 - accuracy: 0.9922 - val_loss: 0.3909 - val_accuracy: 0.8774\n",
      "Epoch 17/20\n",
      "30/30 [==============================] - 0s 13ms/step - loss: 0.0373 - accuracy: 0.9940 - val_loss: 0.4105 - val_accuracy: 0.8739\n",
      "Epoch 18/20\n",
      "30/30 [==============================] - 0s 13ms/step - loss: 0.0325 - accuracy: 0.9948 - val_loss: 0.4341 - val_accuracy: 0.8700\n",
      "Epoch 19/20\n",
      "30/30 [==============================] - 0s 13ms/step - loss: 0.0279 - accuracy: 0.9966 - val_loss: 0.4435 - val_accuracy: 0.8721\n",
      "Epoch 20/20\n",
      "30/30 [==============================] - 0s 12ms/step - loss: 0.0248 - accuracy: 0.9969 - val_loss: 0.4729 - val_accuracy: 0.8725\n"
     ]
    }
   ],
   "source": [
    "# only one layer\n",
    "model = keras.Sequential([\n",
    "  #keras.layers.Dense(16, activation='relu'),\n",
    "  keras.layers.Dense(16, activation='relu'),\n",
    "  keras.layers.Dense(1, activation='sigmoid')\n",
    "])\n",
    "\n",
    "model.compile(optimizer='rmsprop',\n",
    "              loss='binary_crossentropy',\n",
    "              metrics=['accuracy'])\n",
    "\n",
    "history = model.fit(partial_x_train, partial_y_train, epochs=20, batch_size=512, validation_data=(x_val, y_val))"
   ]
  },
  {
   "cell_type": "code",
   "execution_count": 36,
   "id": "enclosed-darkness",
   "metadata": {},
   "outputs": [
    {
     "data": {
      "text/plain": [
       "<matplotlib.legend.Legend at 0x22da58ac3a0>"
      ]
     },
     "execution_count": 36,
     "metadata": {},
     "output_type": "execute_result"
    },
    {
     "data": {
      "image/png": "[encoded data removed]",
      "text/plain": [
       "<Figure size 432x288 with 1 Axes>"
      ]
     },
     "metadata": {
      "needs_background": "light"
     },
     "output_type": "display_data"
    }
   ],
   "source": [
    "history_dict = history.history\n",
    "loss_values = history_dict['loss']\n",
    "val_loss_values = history_dict['val_loss']\n",
    "epochs = range(1, len(loss_values) + 1)\n",
    "\n",
    "plt.plot(epochs, loss_values, 'bo', label='Training loss')\n",
    "plt.plot(epochs, val_loss_values, 'b', label='Validation loss')\n",
    "plt.title('Training and validation loss')\n",
    "plt.xlabel('Epochs')\n",
    "plt.ylabel('Loss')\n",
    "plt.legend()"
   ]
  },
  {
   "cell_type": "code",
   "execution_count": 37,
   "id": "intelligent-muslim",
   "metadata": {
    "scrolled": true
   },
   "outputs": [
    {
     "name": "stdout",
     "output_type": "stream",
     "text": [
      "Epoch 1/20\n",
      "30/30 [==============================] - 2s 39ms/step - loss: 0.5979 - accuracy: 0.6813 - val_loss: 0.4253 - val_accuracy: 0.8209\n",
      "Epoch 2/20\n",
      "30/30 [==============================] - 0s 12ms/step - loss: 0.3201 - accuracy: 0.8972 - val_loss: 0.3002 - val_accuracy: 0.8887\n",
      "Epoch 3/20\n",
      "30/30 [==============================] - 0s 12ms/step - loss: 0.2172 - accuracy: 0.9324 - val_loss: 0.2793 - val_accuracy: 0.8891\n",
      "Epoch 4/20\n",
      "30/30 [==============================] - 0s 11ms/step - loss: 0.1619 - accuracy: 0.9486 - val_loss: 0.2831 - val_accuracy: 0.8869\n",
      "Epoch 5/20\n",
      "30/30 [==============================] - 0s 12ms/step - loss: 0.1245 - accuracy: 0.9628 - val_loss: 0.3054 - val_accuracy: 0.8800\n",
      "Epoch 6/20\n",
      "30/30 [==============================] - 0s 11ms/step - loss: 0.1028 - accuracy: 0.9693 - val_loss: 0.3444 - val_accuracy: 0.8770\n",
      "Epoch 7/20\n",
      "30/30 [==============================] - 0s 11ms/step - loss: 0.0812 - accuracy: 0.9778 - val_loss: 0.4048 - val_accuracy: 0.8649\n",
      "Epoch 8/20\n",
      "30/30 [==============================] - 0s 11ms/step - loss: 0.0682 - accuracy: 0.9821 - val_loss: 0.3679 - val_accuracy: 0.8767\n",
      "Epoch 9/20\n",
      "30/30 [==============================] - 0s 11ms/step - loss: 0.0559 - accuracy: 0.9862 - val_loss: 0.3892 - val_accuracy: 0.8763\n",
      "Epoch 10/20\n",
      "30/30 [==============================] - 0s 12ms/step - loss: 0.0432 - accuracy: 0.9894 - val_loss: 0.4190 - val_accuracy: 0.8742\n",
      "Epoch 11/20\n",
      "30/30 [==============================] - 0s 12ms/step - loss: 0.0337 - accuracy: 0.9932 - val_loss: 0.4656 - val_accuracy: 0.8684\n",
      "Epoch 12/20\n",
      "30/30 [==============================] - 0s 11ms/step - loss: 0.0302 - accuracy: 0.9944 - val_loss: 0.4950 - val_accuracy: 0.8694\n",
      "Epoch 13/20\n",
      "30/30 [==============================] - 0s 12ms/step - loss: 0.0175 - accuracy: 0.9980 - val_loss: 0.5917 - val_accuracy: 0.8604\n",
      "Epoch 14/20\n",
      "30/30 [==============================] - 0s 11ms/step - loss: 0.0121 - accuracy: 0.9988 - val_loss: 0.5569 - val_accuracy: 0.8689\n",
      "Epoch 15/20\n",
      "30/30 [==============================] - 0s 12ms/step - loss: 0.0171 - accuracy: 0.9961 - val_loss: 0.5895 - val_accuracy: 0.8695\n",
      "Epoch 16/20\n",
      "30/30 [==============================] - 0s 12ms/step - loss: 0.0060 - accuracy: 0.9998 - val_loss: 0.6443 - val_accuracy: 0.8648\n",
      "Epoch 17/20\n",
      "30/30 [==============================] - 0s 11ms/step - loss: 0.0126 - accuracy: 0.9972 - val_loss: 0.6644 - val_accuracy: 0.8673\n",
      "Epoch 18/20\n",
      "30/30 [==============================] - 0s 11ms/step - loss: 0.0033 - accuracy: 0.9998 - val_loss: 0.6853 - val_accuracy: 0.8669\n",
      "Epoch 19/20\n",
      "30/30 [==============================] - 0s 11ms/step - loss: 0.0079 - accuracy: 0.9981 - val_loss: 0.7315 - val_accuracy: 0.8650\n",
      "Epoch 20/20\n",
      "30/30 [==============================] - 0s 10ms/step - loss: 0.0019 - accuracy: 0.9999 - val_loss: 0.7564 - val_accuracy: 0.8646\n"
     ]
    }
   ],
   "source": [
    "# only one layer\n",
    "model = keras.Sequential([\n",
    "  keras.layers.Dense(16, activation='relu'),\n",
    "  keras.layers.Dense(16, activation='relu'),\n",
    "  keras.layers.Dense(16, activation='relu'),\n",
    "  keras.layers.Dense(1, activation='sigmoid')\n",
    "])\n",
    "\n",
    "model.compile(optimizer='rmsprop',\n",
    "              loss='binary_crossentropy',\n",
    "              metrics=['accuracy'])\n",
    "\n",
    "history = model.fit(partial_x_train, partial_y_train, epochs=20, batch_size=512, validation_data=(x_val, y_val))"
   ]
  },
  {
   "cell_type": "code",
   "execution_count": 38,
   "id": "separate-preservation",
   "metadata": {},
   "outputs": [
    {
     "data": {
      "text/plain": [
       "<matplotlib.legend.Legend at 0x22f38d5be20>"
      ]
     },
     "execution_count": 38,
     "metadata": {},
     "output_type": "execute_result"
    },
    {
     "data": {
      "image/png": "[encoded data removed]",
      "text/plain": [
       "<Figure size 432x288 with 1 Axes>"
      ]
     },
     "metadata": {
      "needs_background": "light"
     },
     "output_type": "display_data"
    }
   ],
   "source": [
    "history_dict = history.history\n",
    "loss_values = history_dict['loss']\n",
    "val_loss_values = history_dict['val_loss']\n",
    "epochs = range(1, len(loss_values) + 1)\n",
    "\n",
    "plt.plot(epochs, loss_values, 'bo', label='Training loss')\n",
    "plt.plot(epochs, val_loss_values, 'b', label='Validation loss')\n",
    "plt.title('Training and validation loss')\n",
    "plt.xlabel('Epochs')\n",
    "plt.ylabel('Loss')\n",
    "plt.legend()"
   ]
  },
  {
   "cell_type": "code",
   "execution_count": 39,
   "id": "twelve-arnold",
   "metadata": {
    "scrolled": true
   },
   "outputs": [
    {
     "name": "stdout",
     "output_type": "stream",
     "text": [
      "Epoch 1/20\n",
      "30/30 [==============================] - 1s 27ms/step - loss: 0.5625 - accuracy: 0.6918 - val_loss: 0.3207 - val_accuracy: 0.8806\n",
      "Epoch 2/20\n",
      "30/30 [==============================] - 1s 21ms/step - loss: 0.2587 - accuracy: 0.9096 - val_loss: 0.3068 - val_accuracy: 0.8765\n",
      "Epoch 3/20\n",
      "30/30 [==============================] - 1s 20ms/step - loss: 0.1888 - accuracy: 0.9289 - val_loss: 0.2804 - val_accuracy: 0.8873\n",
      "Epoch 4/20\n",
      "30/30 [==============================] - 1s 21ms/step - loss: 0.1535 - accuracy: 0.9432 - val_loss: 0.2987 - val_accuracy: 0.8831\n",
      "Epoch 5/20\n",
      "30/30 [==============================] - 1s 20ms/step - loss: 0.0942 - accuracy: 0.9721 - val_loss: 0.3301 - val_accuracy: 0.8804\n",
      "Epoch 6/20\n",
      "30/30 [==============================] - 1s 20ms/step - loss: 0.0809 - accuracy: 0.9757 - val_loss: 0.3429 - val_accuracy: 0.8831\n",
      "Epoch 7/20\n",
      "30/30 [==============================] - 1s 20ms/step - loss: 0.0613 - accuracy: 0.9812 - val_loss: 0.3789 - val_accuracy: 0.8788\n",
      "Epoch 8/20\n",
      "30/30 [==============================] - 1s 20ms/step - loss: 0.0450 - accuracy: 0.9881 - val_loss: 0.4086 - val_accuracy: 0.8780\n",
      "Epoch 9/20\n",
      "30/30 [==============================] - ETA: 0s - loss: 0.0378 - accuracy: 0.98 - 1s 20ms/step - loss: 0.0383 - accuracy: 0.9894 - val_loss: 0.4406 - val_accuracy: 0.8760\n",
      "Epoch 10/20\n",
      "30/30 [==============================] - 1s 20ms/step - loss: 0.0203 - accuracy: 0.9959 - val_loss: 0.4698 - val_accuracy: 0.8753\n",
      "Epoch 11/20\n",
      "30/30 [==============================] - 1s 20ms/step - loss: 0.0095 - accuracy: 0.9992 - val_loss: 0.5190 - val_accuracy: 0.8739\n",
      "Epoch 12/20\n",
      "30/30 [==============================] - 1s 21ms/step - loss: 0.0189 - accuracy: 0.9955 - val_loss: 0.5555 - val_accuracy: 0.8746\n",
      "Epoch 13/20\n",
      "30/30 [==============================] - 1s 20ms/step - loss: 0.0038 - accuracy: 0.9998 - val_loss: 0.5938 - val_accuracy: 0.8756\n",
      "Epoch 14/20\n",
      "30/30 [==============================] - 1s 20ms/step - loss: 0.0097 - accuracy: 0.9977 - val_loss: 0.6242 - val_accuracy: 0.8731\n",
      "Epoch 15/20\n",
      "30/30 [==============================] - 1s 20ms/step - loss: 0.0019 - accuracy: 0.9999 - val_loss: 0.6573 - val_accuracy: 0.8739\n",
      "Epoch 16/20\n",
      "30/30 [==============================] - 1s 20ms/step - loss: 0.0013 - accuracy: 1.0000 - val_loss: 0.7105 - val_accuracy: 0.8732\n",
      "Epoch 17/20\n",
      "30/30 [==============================] - 1s 20ms/step - loss: 0.0122 - accuracy: 0.9972 - val_loss: 0.7413 - val_accuracy: 0.8714\n",
      "Epoch 18/20\n",
      "30/30 [==============================] - 1s 21ms/step - loss: 6.4729e-04 - accuracy: 1.0000 - val_loss: 0.7684 - val_accuracy: 0.8715\n",
      "Epoch 19/20\n",
      "30/30 [==============================] - 1s 20ms/step - loss: 5.2510e-04 - accuracy: 1.0000 - val_loss: 0.8139 - val_accuracy: 0.8713\n",
      "Epoch 20/20\n",
      "30/30 [==============================] - 1s 19ms/step - loss: 3.5808e-04 - accuracy: 1.0000 - val_loss: 0.8906 - val_accuracy: 0.8709\n"
     ]
    }
   ],
   "source": [
    "# only one layer\n",
    "model = keras.Sequential([\n",
    "  keras.layers.Dense(64, activation='relu'),\n",
    "  keras.layers.Dense(32, activation='relu'),\n",
    "  keras.layers.Dense(1, activation='sigmoid')\n",
    "])\n",
    "\n",
    "model.compile(optimizer='rmsprop',\n",
    "              loss='binary_crossentropy',\n",
    "              metrics=['accuracy'])\n",
    "\n",
    "history = model.fit(partial_x_train, partial_y_train, epochs=20, batch_size=512, validation_data=(x_val, y_val))"
   ]
  },
  {
   "cell_type": "code",
   "execution_count": 40,
   "id": "faced-enclosure",
   "metadata": {},
   "outputs": [
    {
     "data": {
      "text/plain": [
       "<matplotlib.legend.Legend at 0x22d9fa94be0>"
      ]
     },
     "execution_count": 40,
     "metadata": {},
     "output_type": "execute_result"
    },
    {
     "data": {
      "image/png": "[encoded data removed]",
      "text/plain": [
       "<Figure size 432x288 with 1 Axes>"
      ]
     },
     "metadata": {
      "needs_background": "light"
     },
     "output_type": "display_data"
    }
   ],
   "source": [
    "history_dict = history.history\n",
    "loss_values = history_dict['loss']\n",
    "val_loss_values = history_dict['val_loss']\n",
    "epochs = range(1, len(loss_values) + 1)\n",
    "\n",
    "plt.plot(epochs, loss_values, 'bo', label='Training loss')\n",
    "plt.plot(epochs, val_loss_values, 'b', label='Validation loss')\n",
    "plt.title('Training and validation loss')\n",
    "plt.xlabel('Epochs')\n",
    "plt.ylabel('Loss')\n",
    "plt.legend()"
   ]
  },
  {
   "cell_type": "code",
   "execution_count": 41,
   "id": "least-introduction",
   "metadata": {
    "scrolled": true
   },
   "outputs": [
    {
     "name": "stdout",
     "output_type": "stream",
     "text": [
      "Epoch 1/20\n",
      "30/30 [==============================] - 1s 22ms/step - loss: 0.5730 - accuracy: 0.6962 - val_loss: 0.3415 - val_accuracy: 0.8771\n",
      "Epoch 2/20\n",
      "30/30 [==============================] - 0s 15ms/step - loss: 0.2766 - accuracy: 0.9052 - val_loss: 0.2826 - val_accuracy: 0.8910\n",
      "Epoch 3/20\n",
      "30/30 [==============================] - 0s 15ms/step - loss: 0.1852 - accuracy: 0.9393 - val_loss: 0.2971 - val_accuracy: 0.8828\n",
      "Epoch 4/20\n",
      "30/30 [==============================] - 0s 15ms/step - loss: 0.1452 - accuracy: 0.9496 - val_loss: 0.3935 - val_accuracy: 0.8547\n",
      "Epoch 5/20\n",
      "30/30 [==============================] - 0s 15ms/step - loss: 0.1140 - accuracy: 0.9638 - val_loss: 0.3385 - val_accuracy: 0.8790\n",
      "Epoch 6/20\n",
      "30/30 [==============================] - 0s 14ms/step - loss: 0.0844 - accuracy: 0.9750 - val_loss: 0.3890 - val_accuracy: 0.8664\n",
      "Epoch 7/20\n",
      "30/30 [==============================] - 0s 14ms/step - loss: 0.0677 - accuracy: 0.9789 - val_loss: 0.3834 - val_accuracy: 0.8785\n",
      "Epoch 8/20\n",
      "30/30 [==============================] - 0s 14ms/step - loss: 0.0475 - accuracy: 0.9873 - val_loss: 0.4075 - val_accuracy: 0.8731\n",
      "Epoch 9/20\n",
      "30/30 [==============================] - 0s 15ms/step - loss: 0.0325 - accuracy: 0.9932 - val_loss: 0.4433 - val_accuracy: 0.8761\n",
      "Epoch 10/20\n",
      "30/30 [==============================] - 0s 15ms/step - loss: 0.0238 - accuracy: 0.9952 - val_loss: 0.4731 - val_accuracy: 0.8732\n",
      "Epoch 11/20\n",
      "30/30 [==============================] - 0s 14ms/step - loss: 0.0141 - accuracy: 0.9984 - val_loss: 0.7924 - val_accuracy: 0.8182\n",
      "Epoch 12/20\n",
      "30/30 [==============================] - 0s 15ms/step - loss: 0.0269 - accuracy: 0.9910 - val_loss: 0.5568 - val_accuracy: 0.8708\n",
      "Epoch 13/20\n",
      "30/30 [==============================] - 0s 14ms/step - loss: 0.0183 - accuracy: 0.9950 - val_loss: 0.5877 - val_accuracy: 0.8707\n",
      "Epoch 14/20\n",
      "30/30 [==============================] - 0s 14ms/step - loss: 0.0052 - accuracy: 0.9995 - val_loss: 0.6476 - val_accuracy: 0.8705\n",
      "Epoch 15/20\n",
      "30/30 [==============================] - 0s 14ms/step - loss: 0.0185 - accuracy: 0.9945 - val_loss: 0.6653 - val_accuracy: 0.8711\n",
      "Epoch 16/20\n",
      "30/30 [==============================] - 0s 14ms/step - loss: 0.0024 - accuracy: 0.9998 - val_loss: 0.7015 - val_accuracy: 0.8689\n",
      "Epoch 17/20\n",
      "30/30 [==============================] - 0s 14ms/step - loss: 0.0060 - accuracy: 0.9985 - val_loss: 0.7479 - val_accuracy: 0.8679\n",
      "Epoch 18/20\n",
      "30/30 [==============================] - 0s 14ms/step - loss: 0.0013 - accuracy: 1.0000 - val_loss: 0.7761 - val_accuracy: 0.8657\n",
      "Epoch 19/20\n",
      "30/30 [==============================] - 0s 14ms/step - loss: 9.5033e-04 - accuracy: 1.0000 - val_loss: 0.8219 - val_accuracy: 0.8660\n",
      "Epoch 20/20\n",
      "30/30 [==============================] - 0s 13ms/step - loss: 0.0056 - accuracy: 0.9986 - val_loss: 0.8831 - val_accuracy: 0.8644\n"
     ]
    }
   ],
   "source": [
    "# only one layer\n",
    "model = keras.Sequential([\n",
    "  keras.layers.Dense(32, activation='relu'),\n",
    "  keras.layers.Dense(64, activation='relu'),\n",
    "  keras.layers.Dense(1, activation='sigmoid')\n",
    "])\n",
    "\n",
    "model.compile(optimizer='rmsprop',\n",
    "              loss='binary_crossentropy',\n",
    "              metrics=['accuracy'])\n",
    "\n",
    "history = model.fit(partial_x_train, partial_y_train, epochs=20, batch_size=512, validation_data=(x_val, y_val))"
   ]
  },
  {
   "cell_type": "code",
   "execution_count": 42,
   "id": "missing-rabbit",
   "metadata": {},
   "outputs": [
    {
     "data": {
      "text/plain": [
       "<matplotlib.legend.Legend at 0x22da628c280>"
      ]
     },
     "execution_count": 42,
     "metadata": {},
     "output_type": "execute_result"
    },
    {
     "data": {
      "image/png": "[encoded data removed]",
      "text/plain": [
       "<Figure size 432x288 with 1 Axes>"
      ]
     },
     "metadata": {
      "needs_background": "light"
     },
     "output_type": "display_data"
    }
   ],
   "source": [
    "history_dict = history.history\n",
    "loss_values = history_dict['loss']\n",
    "val_loss_values = history_dict['val_loss']\n",
    "epochs = range(1, len(loss_values) + 1)\n",
    "\n",
    "plt.plot(epochs, loss_values, 'bo', label='Training loss')\n",
    "plt.plot(epochs, val_loss_values, 'b', label='Validation loss')\n",
    "plt.title('Training and validation loss')\n",
    "plt.xlabel('Epochs')\n",
    "plt.ylabel('Loss')\n",
    "plt.legend()"
   ]
  },
  {
   "cell_type": "code",
   "execution_count": 43,
   "id": "attached-freeware",
   "metadata": {
    "scrolled": true
   },
   "outputs": [
    {
     "name": "stdout",
     "output_type": "stream",
     "text": [
      "Epoch 1/20\n",
      "30/30 [==============================] - 1s 22ms/step - loss: 0.1980 - accuracy: 0.7195 - val_loss: 0.1205 - val_accuracy: 0.8563\n",
      "Epoch 2/20\n",
      "30/30 [==============================] - 0s 13ms/step - loss: 0.0959 - accuracy: 0.9020 - val_loss: 0.0934 - val_accuracy: 0.8897\n",
      "Epoch 3/20\n",
      "30/30 [==============================] - 0s 13ms/step - loss: 0.0676 - accuracy: 0.9313 - val_loss: 0.0851 - val_accuracy: 0.8919\n",
      "Epoch 4/20\n",
      "30/30 [==============================] - 0s 13ms/step - loss: 0.0506 - accuracy: 0.9477 - val_loss: 0.0838 - val_accuracy: 0.8891\n",
      "Epoch 5/20\n",
      "30/30 [==============================] - 0s 13ms/step - loss: 0.0408 - accuracy: 0.9593 - val_loss: 0.0827 - val_accuracy: 0.8861\n",
      "Epoch 6/20\n",
      "30/30 [==============================] - 0s 13ms/step - loss: 0.0325 - accuracy: 0.9695 - val_loss: 0.0851 - val_accuracy: 0.8827\n",
      "Epoch 7/20\n",
      "30/30 [==============================] - 0s 13ms/step - loss: 0.0269 - accuracy: 0.9764 - val_loss: 0.0854 - val_accuracy: 0.8831\n",
      "Epoch 8/20\n",
      "30/30 [==============================] - 0s 13ms/step - loss: 0.0210 - accuracy: 0.9826 - val_loss: 0.1012 - val_accuracy: 0.8640\n",
      "Epoch 9/20\n",
      "30/30 [==============================] - 0s 13ms/step - loss: 0.0189 - accuracy: 0.9853 - val_loss: 0.0953 - val_accuracy: 0.8705\n",
      "Epoch 10/20\n",
      "30/30 [==============================] - 0s 13ms/step - loss: 0.0165 - accuracy: 0.9866 - val_loss: 0.1002 - val_accuracy: 0.8696\n",
      "Epoch 11/20\n",
      "30/30 [==============================] - 0s 13ms/step - loss: 0.0126 - accuracy: 0.9912 - val_loss: 0.0942 - val_accuracy: 0.8746\n",
      "Epoch 12/20\n",
      "30/30 [==============================] - 0s 13ms/step - loss: 0.0102 - accuracy: 0.9918 - val_loss: 0.0961 - val_accuracy: 0.8751\n",
      "Epoch 13/20\n",
      "30/30 [==============================] - 0s 13ms/step - loss: 0.0081 - accuracy: 0.9943 - val_loss: 0.0975 - val_accuracy: 0.8737\n",
      "Epoch 14/20\n",
      "30/30 [==============================] - 0s 13ms/step - loss: 0.0069 - accuracy: 0.9949 - val_loss: 0.1002 - val_accuracy: 0.8726\n",
      "Epoch 15/20\n",
      "30/30 [==============================] - 0s 13ms/step - loss: 0.0049 - accuracy: 0.9966 - val_loss: 0.1151 - val_accuracy: 0.8535\n",
      "Epoch 16/20\n",
      "30/30 [==============================] - 0s 13ms/step - loss: 0.0056 - accuracy: 0.9965 - val_loss: 0.1029 - val_accuracy: 0.8703\n",
      "Epoch 17/20\n",
      "30/30 [==============================] - 0s 13ms/step - loss: 0.0038 - accuracy: 0.9971 - val_loss: 0.1049 - val_accuracy: 0.8690\n",
      "Epoch 18/20\n",
      "30/30 [==============================] - 0s 13ms/step - loss: 0.0055 - accuracy: 0.9950 - val_loss: 0.1061 - val_accuracy: 0.8684\n",
      "Epoch 19/20\n",
      "30/30 [==============================] - 0s 13ms/step - loss: 0.0036 - accuracy: 0.9971 - val_loss: 0.1093 - val_accuracy: 0.8651\n",
      "Epoch 20/20\n",
      "30/30 [==============================] - 0s 12ms/step - loss: 0.0033 - accuracy: 0.9971 - val_loss: 0.1089 - val_accuracy: 0.8668\n"
     ]
    }
   ],
   "source": [
    "# only one layer\n",
    "model = keras.Sequential([\n",
    "  keras.layers.Dense(16, activation='relu'),\n",
    "  keras.layers.Dense(16, activation='relu'),\n",
    "  keras.layers.Dense(1, activation='sigmoid')\n",
    "])\n",
    "\n",
    "model.compile(optimizer='rmsprop',\n",
    "              loss='mse',\n",
    "              metrics=['accuracy'])\n",
    "\n",
    "history = model.fit(partial_x_train, partial_y_train, epochs=20, batch_size=512, validation_data=(x_val, y_val))"
   ]
  },
  {
   "cell_type": "code",
   "execution_count": 44,
   "id": "animal-think",
   "metadata": {},
   "outputs": [
    {
     "data": {
      "text/plain": [
       "<matplotlib.legend.Legend at 0x22f75430550>"
      ]
     },
     "execution_count": 44,
     "metadata": {},
     "output_type": "execute_result"
    },
    {
     "data": {
      "image/png": "[encoded data removed]",
      "text/plain": [
       "<Figure size 432x288 with 1 Axes>"
      ]
     },
     "metadata": {
      "needs_background": "light"
     },
     "output_type": "display_data"
    }
   ],
   "source": [
    "history_dict = history.history\n",
    "loss_values = history_dict['loss']\n",
    "val_loss_values = history_dict['val_loss']\n",
    "epochs = range(1, len(loss_values) + 1)\n",
    "\n",
    "plt.plot(epochs, loss_values, 'bo', label='Training loss')\n",
    "plt.plot(epochs, val_loss_values, 'b', label='Validation loss')\n",
    "plt.title('Training and validation loss')\n",
    "plt.xlabel('Epochs')\n",
    "plt.ylabel('Loss')\n",
    "plt.legend()"
   ]
  },
  {
   "cell_type": "code",
   "execution_count": 46,
   "id": "absent-capability",
   "metadata": {
    "scrolled": true
   },
   "outputs": [
    {
     "name": "stdout",
     "output_type": "stream",
     "text": [
      "Epoch 1/20\n",
      "30/30 [==============================] - 1s 22ms/step - loss: 0.5673 - accuracy: 0.7101 - val_loss: 0.3772 - val_accuracy: 0.8585\n",
      "Epoch 2/20\n",
      "30/30 [==============================] - 0s 13ms/step - loss: 0.2997 - accuracy: 0.9056 - val_loss: 0.2887 - val_accuracy: 0.8885\n",
      "Epoch 3/20\n",
      "30/30 [==============================] - 0s 13ms/step - loss: 0.2033 - accuracy: 0.9356 - val_loss: 0.2950 - val_accuracy: 0.8795\n",
      "Epoch 4/20\n",
      "30/30 [==============================] - 0s 13ms/step - loss: 0.1486 - accuracy: 0.9518 - val_loss: 0.2777 - val_accuracy: 0.8883\n",
      "Epoch 5/20\n",
      "30/30 [==============================] - 0s 13ms/step - loss: 0.1097 - accuracy: 0.9663 - val_loss: 0.3024 - val_accuracy: 0.8839\n",
      "Epoch 6/20\n",
      "30/30 [==============================] - 0s 13ms/step - loss: 0.0868 - accuracy: 0.9745 - val_loss: 0.3417 - val_accuracy: 0.8771\n",
      "Epoch 7/20\n",
      "30/30 [==============================] - 0s 13ms/step - loss: 0.0626 - accuracy: 0.9819 - val_loss: 0.3744 - val_accuracy: 0.8779\n",
      "Epoch 8/20\n",
      "30/30 [==============================] - 0s 13ms/step - loss: 0.0507 - accuracy: 0.9873 - val_loss: 0.4292 - val_accuracy: 0.8693\n",
      "Epoch 9/20\n",
      "30/30 [==============================] - 0s 13ms/step - loss: 0.0372 - accuracy: 0.9901 - val_loss: 0.4678 - val_accuracy: 0.8695\n",
      "Epoch 10/20\n",
      "30/30 [==============================] - 0s 13ms/step - loss: 0.0292 - accuracy: 0.9928 - val_loss: 0.5102 - val_accuracy: 0.8689\n",
      "Epoch 11/20\n",
      "30/30 [==============================] - 0s 13ms/step - loss: 0.0165 - accuracy: 0.9965 - val_loss: 0.5392 - val_accuracy: 0.8700\n",
      "Epoch 12/20\n",
      "30/30 [==============================] - 0s 13ms/step - loss: 0.0113 - accuracy: 0.9985 - val_loss: 0.6511 - val_accuracy: 0.8524\n",
      "Epoch 13/20\n",
      "30/30 [==============================] - 0s 13ms/step - loss: 0.0099 - accuracy: 0.9986 - val_loss: 0.6309 - val_accuracy: 0.8634\n",
      "Epoch 14/20\n",
      "30/30 [==============================] - 0s 13ms/step - loss: 0.0060 - accuracy: 0.9990 - val_loss: 0.6895 - val_accuracy: 0.8613\n",
      "Epoch 15/20\n",
      "30/30 [==============================] - 0s 13ms/step - loss: 0.0060 - accuracy: 0.9987 - val_loss: 0.7269 - val_accuracy: 0.8600\n",
      "Epoch 16/20\n",
      "30/30 [==============================] - 0s 13ms/step - loss: 0.0018 - accuracy: 0.9999 - val_loss: 0.7431 - val_accuracy: 0.8620\n",
      "Epoch 17/20\n",
      "30/30 [==============================] - 0s 13ms/step - loss: 0.0011 - accuracy: 1.0000 - val_loss: 0.7879 - val_accuracy: 0.8601\n",
      "Epoch 18/20\n",
      "30/30 [==============================] - 0s 13ms/step - loss: 0.0050 - accuracy: 0.9985 - val_loss: 0.8186 - val_accuracy: 0.8609\n",
      "Epoch 19/20\n",
      "30/30 [==============================] - 0s 13ms/step - loss: 4.8791e-04 - accuracy: 1.0000 - val_loss: 0.8388 - val_accuracy: 0.8611\n",
      "Epoch 20/20\n",
      "30/30 [==============================] - 0s 12ms/step - loss: 3.5923e-04 - accuracy: 1.0000 - val_loss: 0.8832 - val_accuracy: 0.8598\n"
     ]
    }
   ],
   "source": [
    "# only one layer\n",
    "model = keras.Sequential([\n",
    "  keras.layers.Dense(16, activation='tanh'),\n",
    "  keras.layers.Dense(16, activation='tanh'),\n",
    "  keras.layers.Dense(1, activation='sigmoid')\n",
    "])\n",
    "\n",
    "model.compile(optimizer='rmsprop',\n",
    "              loss='binary_crossentropy',\n",
    "              metrics=['accuracy'])\n",
    "\n",
    "history = model.fit(partial_x_train, partial_y_train, epochs=20, batch_size=512, validation_data=(x_val, y_val))"
   ]
  },
  {
   "cell_type": "code",
   "execution_count": 47,
   "id": "critical-shape",
   "metadata": {},
   "outputs": [
    {
     "data": {
      "text/plain": [
       "<matplotlib.legend.Legend at 0x22f76de9a00>"
      ]
     },
     "execution_count": 47,
     "metadata": {},
     "output_type": "execute_result"
    },
    {
     "data": {
      "image/png": "[encoded data removed]",
      "text/plain": [
       "<Figure size 432x288 with 1 Axes>"
      ]
     },
     "metadata": {
      "needs_background": "light"
     },
     "output_type": "display_data"
    }
   ],
   "source": [
    "history_dict = history.history\n",
    "loss_values = history_dict['loss']\n",
    "val_loss_values = history_dict['val_loss']\n",
    "epochs = range(1, len(loss_values) + 1)\n",
    "\n",
    "plt.plot(epochs, loss_values, 'bo', label='Training loss')\n",
    "plt.plot(epochs, val_loss_values, 'b', label='Validation loss')\n",
    "plt.title('Training and validation loss')\n",
    "plt.xlabel('Epochs')\n",
    "plt.ylabel('Loss')\n",
    "plt.legend()"
   ]
  },
  {
   "cell_type": "markdown",
   "id": "exclusive-diamond",
   "metadata": {},
   "source": [
    "# Classifying newswire: Reuters\n",
    "\n",
    "In this section, you’ll build a model to classify Reuters newswires into 46 mutually exclusive topics. Because you have many classes, this problem is an instance of multiclass classification; and because each data point should be classified into only one category, the problem is more specifically an instance of single-label, multiclass classification. "
   ]
  },
  {
   "cell_type": "code",
   "execution_count": 10,
   "id": "casual-childhood",
   "metadata": {},
   "outputs": [
    {
     "name": "stdout",
     "output_type": "stream",
     "text": [
      "Downloading data from https://storage.googleapis.com/tensorflow/tf-keras-datasets/reuters.npz\n",
      "2113536/2110848 [==============================] - 0s 0us/step\n"
     ]
    },
    {
     "name": "stderr",
     "output_type": "stream",
     "text": [
      "c:\\tools\\miniconda3\\envs\\ml\\lib\\site-packages\\tensorflow\\python\\keras\\datasets\\reuters.py:148: VisibleDeprecationWarning: Creating an ndarray from ragged nested sequences (which is a list-or-tuple of lists-or-tuples-or ndarrays with different lengths or shapes) is deprecated. If you meant to do this, you must specify 'dtype=object' when creating the ndarray\n",
      "  x_train, y_train = np.array(xs[:idx]), np.array(labels[:idx])\n",
      "c:\\tools\\miniconda3\\envs\\ml\\lib\\site-packages\\tensorflow\\python\\keras\\datasets\\reuters.py:149: VisibleDeprecationWarning: Creating an ndarray from ragged nested sequences (which is a list-or-tuple of lists-or-tuples-or ndarrays with different lengths or shapes) is deprecated. If you meant to do this, you must specify 'dtype=object' when creating the ndarray\n",
      "  x_test, y_test = np.array(xs[idx:]), np.array(labels[idx:])\n"
     ]
    }
   ],
   "source": [
    "from tensorflow.keras.datasets import reuters\n",
    "\n",
    "(train_data, train_labels), (test_data, test_labels) = reuters.load_data(num_words=10000)"
   ]
  },
  {
   "cell_type": "code",
   "execution_count": 12,
   "id": "right-revelation",
   "metadata": {},
   "outputs": [
    {
     "data": {
      "text/plain": [
       "(8982, 2246)"
      ]
     },
     "execution_count": 12,
     "metadata": {},
     "output_type": "execute_result"
    }
   ],
   "source": [
    "len(train_data), len(test_data)\n"
   ]
  },
  {
   "cell_type": "code",
   "execution_count": 13,
   "id": "suitable-passing",
   "metadata": {
    "scrolled": true
   },
   "outputs": [
    {
     "data": {
      "text/plain": [
       "[1,\n",
       " 245,\n",
       " 273,\n",
       " 207,\n",
       " 156,\n",
       " 53,\n",
       " 74,\n",
       " 160,\n",
       " 26,\n",
       " 14,\n",
       " 46,\n",
       " 296,\n",
       " 26,\n",
       " 39,\n",
       " 74,\n",
       " 2979,\n",
       " 3554,\n",
       " 14,\n",
       " 46,\n",
       " 4689,\n",
       " 4329,\n",
       " 86,\n",
       " 61,\n",
       " 3499,\n",
       " 4795,\n",
       " 14,\n",
       " 61,\n",
       " 451,\n",
       " 4329,\n",
       " 17,\n",
       " 12]"
      ]
     },
     "execution_count": 13,
     "metadata": {},
     "output_type": "execute_result"
    }
   ],
   "source": [
    "train_data[10]"
   ]
  },
  {
   "cell_type": "code",
   "execution_count": 25,
   "id": "universal-greensboro",
   "metadata": {},
   "outputs": [],
   "source": [
    "word_index = reuters.get_word_index()\n",
    "reverse_word_index = {value: key for (key, value) in word_index.items()}\n",
    "decoded_newswire = ' '.join([reverse_word_index.get(i - 3, '?') for i in\n",
    "    train_data[1]])"
   ]
  },
  {
   "cell_type": "code",
   "execution_count": 26,
   "id": "combined-quantum",
   "metadata": {},
   "outputs": [
    {
     "data": {
      "text/plain": [
       "'? generale de banque sa lt ? br and lt heller overseas corp of chicago have each taken 50 pct stakes in ? company sa ? factors generale de banque said in a statement it gave no financial details of the transaction sa ? ? turnover in 1986 was 17 5 billion belgian francs reuter 3'"
      ]
     },
     "execution_count": 26,
     "metadata": {},
     "output_type": "execute_result"
    }
   ],
   "source": [
    "decoded_newswire"
   ]
  },
  {
   "cell_type": "code",
   "execution_count": 27,
   "id": "crazy-cotton",
   "metadata": {},
   "outputs": [],
   "source": [
    "x_train = vectorize_sequences(train_data)\n",
    "x_test = vectorize_sequences(test_data)"
   ]
  },
  {
   "cell_type": "code",
   "execution_count": 28,
   "id": "virtual-charter",
   "metadata": {},
   "outputs": [],
   "source": [
    "def to_one_hot(labels, dimension=46):\n",
    "    results = np.zeros((len(labels), dimension))\n",
    "    for i, label in enumerate(labels):\n",
    "        results[i, label] = 1.\n",
    "    return results\n",
    "\n",
    "one_hot_train_labels = to_one_hot(train_labels)\n",
    "one_hot_test_labels = to_one_hot(test_labels)"
   ]
  },
  {
   "cell_type": "code",
   "execution_count": 29,
   "id": "instructional-cooperation",
   "metadata": {},
   "outputs": [],
   "source": [
    "# built-in way in keras\n",
    "from tensorflow.keras.utils import to_categorical\n",
    "\n",
    "one_hot_train_labels = to_categorical(train_labels)\n",
    "one_hot_test_labels = to_categorical(test_labels)"
   ]
  },
  {
   "cell_type": "code",
   "execution_count": 32,
   "id": "color-length",
   "metadata": {},
   "outputs": [
    {
     "data": {
      "text/plain": [
       "(8982, 46)"
      ]
     },
     "execution_count": 32,
     "metadata": {},
     "output_type": "execute_result"
    }
   ],
   "source": [
    "one_hot_train_labels.shape # from 8982x1 to 8982x46"
   ]
  },
  {
   "cell_type": "markdown",
   "id": "formal-healing",
   "metadata": {},
   "source": [
    "In a stack of Dense layers like that you’ve been using, each layer can only access information present in the output of the previous layer. If one layer drops some information relevant to the classification problem, this information can never be recovered by later layers: each layer can potentially become an information bottleneck. In the previous example, you used 16-dimensional intermediate layers, but a 16-dimensional space may be too limited to learn to separate 46 different classes: such small layers may act as information bottlenecks, permanently dropping relevant information."
   ]
  },
  {
   "cell_type": "code",
   "execution_count": 33,
   "id": "fewer-malpractice",
   "metadata": {},
   "outputs": [],
   "source": [
    "model = keras.Sequential([\n",
    "  keras.layers.Dense(64, activation='relu'),\n",
    "  keras.layers.Dense(64, activation='relu'),\n",
    "  keras.layers.Dense(46, activation='softmax')\n",
    "])"
   ]
  },
  {
   "cell_type": "markdown",
   "id": "simple-research",
   "metadata": {},
   "source": [
    "The last layer uses a `softmax` activation. You saw this pattern in the MNIST example. It means the model will output a probability distribution over the 46 different output classes — for every input sample, the model will produce a 46-dimensional output vector, where output[i] is the probability that the sample belongs to class i. The 46 scores will sum to 1.\n",
    "\n",
    "The best loss function to use in this case is `categorical_crossentropy`. It measures the distance between two probability distributions: here, between the probability distribution output by the model and the true distribution of the labels. By minimizing the distance between these two distributions, you train the model to output something as close as possible to the true labels."
   ]
  },
  {
   "cell_type": "code",
   "execution_count": 34,
   "id": "alternative-affect",
   "metadata": {},
   "outputs": [],
   "source": [
    "model.compile(optimizer='rmsprop',\n",
    "              loss='categorical_crossentropy',\n",
    "              metrics=['accuracy'])"
   ]
  },
  {
   "cell_type": "code",
   "execution_count": 89,
   "id": "recognized-catch",
   "metadata": {},
   "outputs": [],
   "source": [
    "from sklearn.model_selection import train_test_split\n",
    "\n",
    "partial_x_train, x_val, partial_y_train, y_val = train_test_split(x_train, one_hot_train_labels, train_size=0.8)"
   ]
  },
  {
   "cell_type": "code",
   "execution_count": 38,
   "id": "smoking-expansion",
   "metadata": {},
   "outputs": [
    {
     "name": "stdout",
     "output_type": "stream",
     "text": [
      "Epoch 1/20\n",
      "15/15 [==============================] - 1s 38ms/step - loss: 3.2556 - accuracy: 0.4083 - val_loss: 1.8099 - val_accuracy: 0.6260\n",
      "Epoch 2/20\n",
      "15/15 [==============================] - 0s 16ms/step - loss: 1.5738 - accuracy: 0.6831 - val_loss: 1.4363 - val_accuracy: 0.7017\n",
      "Epoch 3/20\n",
      "15/15 [==============================] - 0s 16ms/step - loss: 1.2009 - accuracy: 0.7596 - val_loss: 1.2090 - val_accuracy: 0.7440\n",
      "Epoch 4/20\n",
      "15/15 [==============================] - 0s 17ms/step - loss: 0.9252 - accuracy: 0.8140 - val_loss: 1.1365 - val_accuracy: 0.7507\n",
      "Epoch 5/20\n",
      "15/15 [==============================] - 0s 17ms/step - loss: 0.7606 - accuracy: 0.8431 - val_loss: 1.0390 - val_accuracy: 0.7774\n",
      "Epoch 6/20\n",
      "15/15 [==============================] - 0s 16ms/step - loss: 0.6093 - accuracy: 0.8760 - val_loss: 0.9860 - val_accuracy: 0.7796\n",
      "Epoch 7/20\n",
      "15/15 [==============================] - 0s 16ms/step - loss: 0.4918 - accuracy: 0.8992 - val_loss: 1.0323 - val_accuracy: 0.7774\n",
      "Epoch 8/20\n",
      "15/15 [==============================] - 0s 17ms/step - loss: 0.4346 - accuracy: 0.9133 - val_loss: 0.9727 - val_accuracy: 0.7874\n",
      "Epoch 9/20\n",
      "15/15 [==============================] - 0s 17ms/step - loss: 0.3543 - accuracy: 0.9269 - val_loss: 0.9229 - val_accuracy: 0.8013\n",
      "Epoch 10/20\n",
      "15/15 [==============================] - 0s 16ms/step - loss: 0.2770 - accuracy: 0.9426 - val_loss: 0.9402 - val_accuracy: 0.8024\n",
      "Epoch 11/20\n",
      "15/15 [==============================] - 0s 16ms/step - loss: 0.2448 - accuracy: 0.9498 - val_loss: 0.9274 - val_accuracy: 0.7997\n",
      "Epoch 12/20\n",
      "15/15 [==============================] - 0s 17ms/step - loss: 0.2101 - accuracy: 0.9502 - val_loss: 0.9340 - val_accuracy: 0.8102\n",
      "Epoch 13/20\n",
      "15/15 [==============================] - 0s 17ms/step - loss: 0.1775 - accuracy: 0.9566 - val_loss: 0.9291 - val_accuracy: 0.8080\n",
      "Epoch 14/20\n",
      "15/15 [==============================] - 0s 16ms/step - loss: 0.1631 - accuracy: 0.9580 - val_loss: 1.0787 - val_accuracy: 0.7746\n",
      "Epoch 15/20\n",
      "15/15 [==============================] - 0s 16ms/step - loss: 0.1549 - accuracy: 0.9615 - val_loss: 0.9904 - val_accuracy: 0.7974\n",
      "Epoch 16/20\n",
      "15/15 [==============================] - 0s 17ms/step - loss: 0.1311 - accuracy: 0.9614 - val_loss: 1.0292 - val_accuracy: 0.7947\n",
      "Epoch 17/20\n",
      "15/15 [==============================] - 0s 17ms/step - loss: 0.1356 - accuracy: 0.9600 - val_loss: 1.1117 - val_accuracy: 0.7863\n",
      "Epoch 18/20\n",
      "15/15 [==============================] - 0s 16ms/step - loss: 0.1328 - accuracy: 0.9596 - val_loss: 1.0130 - val_accuracy: 0.8036\n",
      "Epoch 19/20\n",
      "15/15 [==============================] - 0s 17ms/step - loss: 0.1156 - accuracy: 0.9641 - val_loss: 1.0502 - val_accuracy: 0.7941\n",
      "Epoch 20/20\n",
      "15/15 [==============================] - 0s 15ms/step - loss: 0.1063 - accuracy: 0.9641 - val_loss: 1.0788 - val_accuracy: 0.7958\n"
     ]
    }
   ],
   "source": [
    "history = model.fit(partial_x_train,\n",
    "                    partial_y_train,\n",
    "                    epochs=20,\n",
    "                    batch_size=512,\n",
    "                    validation_data=(x_val, y_val))"
   ]
  },
  {
   "cell_type": "code",
   "execution_count": 45,
   "id": "extended-cancellation",
   "metadata": {},
   "outputs": [
    {
     "data": {
      "image/png": "[encoded data removed]",
      "text/plain": [
       "<Figure size 432x288 with 1 Axes>"
      ]
     },
     "metadata": {
      "needs_background": "light"
     },
     "output_type": "display_data"
    },
    {
     "data": {
      "image/png": "[encoded data removed]",
      "text/plain": [
       "<Figure size 432x288 with 1 Axes>"
      ]
     },
     "metadata": {
      "needs_background": "light"
     },
     "output_type": "display_data"
    }
   ],
   "source": [
    "loss = history.history['loss']\n",
    "val_loss = history.history['val_loss']\n",
    "epochs = range(1, len(loss) + 1)\n",
    "plt.plot(epochs, loss, 'bo', label='Training loss')\n",
    "plt.plot(epochs, val_loss, 'b', label='Validation loss')\n",
    "plt.title('Training and validation loss')\n",
    "plt.xlabel('Epochs')\n",
    "plt.xticks(range(1, len(loss) + 1, 2))\n",
    "plt.ylabel('Loss')\n",
    "plt.legend()\n",
    "plt.show()\n",
    "\n",
    "plt.clf()\n",
    "acc = history.history['accuracy']\n",
    "val_acc = history.history['val_accuracy']\n",
    "plt.plot(epochs, acc, 'bo', label='Training accuracy')\n",
    "plt.plot(epochs, val_acc, 'b', label='Validation accuracy')\n",
    "plt.title('Training and validation accuracy')\n",
    "plt.xlabel('Epochs')\n",
    "plt.xticks(range(1, len(loss) + 1, 2))\n",
    "plt.ylabel('Accuracy')\n",
    "plt.legend()\n",
    "None"
   ]
  },
  {
   "cell_type": "markdown",
   "id": "bearing-fountain",
   "metadata": {},
   "source": [
    "The model begins to overfit after nine epochs. Let’s train a new model from scratch for nine epochs and then evaluate it on the test set."
   ]
  },
  {
   "cell_type": "code",
   "execution_count": 54,
   "id": "responsible-promise",
   "metadata": {},
   "outputs": [
    {
     "name": "stdout",
     "output_type": "stream",
     "text": [
      "Epoch 1/9\n",
      "15/15 [==============================] - 1s 27ms/step - loss: 3.2819 - accuracy: 0.3109 - val_loss: 1.8539 - val_accuracy: 0.6650\n",
      "Epoch 2/9\n",
      "15/15 [==============================] - 0s 18ms/step - loss: 1.6161 - accuracy: 0.6867 - val_loss: 1.4049 - val_accuracy: 0.7212\n",
      "Epoch 3/9\n",
      "15/15 [==============================] - 0s 17ms/step - loss: 1.1539 - accuracy: 0.7579 - val_loss: 1.2206 - val_accuracy: 0.7362\n",
      "Epoch 4/9\n",
      "15/15 [==============================] - 0s 16ms/step - loss: 0.9090 - accuracy: 0.8072 - val_loss: 1.0944 - val_accuracy: 0.7618\n",
      "Epoch 5/9\n",
      "15/15 [==============================] - 0s 16ms/step - loss: 0.7321 - accuracy: 0.8493 - val_loss: 1.0421 - val_accuracy: 0.7735\n",
      "Epoch 6/9\n",
      "15/15 [==============================] - 0s 18ms/step - loss: 0.5786 - accuracy: 0.8840 - val_loss: 0.9950 - val_accuracy: 0.7824\n",
      "Epoch 7/9\n",
      "15/15 [==============================] - 0s 16ms/step - loss: 0.4763 - accuracy: 0.9051 - val_loss: 0.9420 - val_accuracy: 0.8013\n",
      "Epoch 8/9\n",
      "15/15 [==============================] - 0s 16ms/step - loss: 0.3843 - accuracy: 0.9272 - val_loss: 1.0151 - val_accuracy: 0.7802\n",
      "Epoch 9/9\n",
      "15/15 [==============================] - 0s 14ms/step - loss: 0.3315 - accuracy: 0.9327 - val_loss: 0.9466 - val_accuracy: 0.7919\n",
      "71/71 [==============================] - 0s 1ms/step - loss: 1.0295 - accuracy: 0.7805\n"
     ]
    }
   ],
   "source": [
    "model = keras.Sequential([\n",
    "  keras.layers.Dense(64, activation='relu'),\n",
    "  keras.layers.Dense(64, activation='relu'),\n",
    "  keras.layers.Dense(46, activation='softmax')\n",
    "])\n",
    "model.compile(optimizer='rmsprop',\n",
    "              loss='categorical_crossentropy',\n",
    "              metrics=['accuracy'])\n",
    "model.fit(partial_x_train,\n",
    "          partial_y_train,\n",
    "          epochs=9,\n",
    "          batch_size=512,\n",
    "          validation_data=(x_val, y_val))\n",
    "results = model.evaluate(x_test, one_hot_test_labels, return_dict=True)"
   ]
  },
  {
   "cell_type": "code",
   "execution_count": 55,
   "id": "actual-mayor",
   "metadata": {},
   "outputs": [
    {
     "data": {
      "text/plain": [
       "{'loss': 1.029529333114624, 'accuracy': 0.7804986834526062}"
      ]
     },
     "execution_count": 55,
     "metadata": {},
     "output_type": "execute_result"
    }
   ],
   "source": [
    "results"
   ]
  },
  {
   "cell_type": "markdown",
   "id": "defined-outline",
   "metadata": {},
   "source": [
    "This approach reaches an accuracy of ~80%. With a balanced binary classification problem, the accuracy reached by a purely random classifier would be 50%. But in this case, we have 46 classes, and they may not be equally represented. What would be the accuracy of a random baseline? We could try quickly implementing one to check this empirically:"
   ]
  },
  {
   "cell_type": "code",
   "execution_count": 68,
   "id": "changing-twins",
   "metadata": {},
   "outputs": [
    {
     "data": {
      "text/plain": [
       "0.02226179875333927"
      ]
     },
     "execution_count": 68,
     "metadata": {},
     "output_type": "execute_result"
    }
   ],
   "source": [
    "guess = np.random.randint(1, 47, size=len(test_labels))\n",
    "np.mean(guess == test_labels) # pure guessing is around 2%"
   ]
  },
  {
   "cell_type": "code",
   "execution_count": 71,
   "id": "animal-leeds",
   "metadata": {},
   "outputs": [
    {
     "data": {
      "text/plain": [
       "0.18388245770258238"
      ]
     },
     "execution_count": 71,
     "metadata": {},
     "output_type": "execute_result"
    }
   ],
   "source": [
    "import copy\n",
    "test_labels_copy = copy.copy(test_labels)\n",
    "np.random.shuffle(test_labels_copy)\n",
    "hits_array = test_labels == test_labels_copy\n",
    "np.mean(hits_array) # because the labels are not balanced between the 46 categories, the baseline is much higher than 2%"
   ]
  },
  {
   "cell_type": "code",
   "execution_count": 72,
   "id": "harmful-jacksonville",
   "metadata": {},
   "outputs": [],
   "source": [
    "predictions = model.predict(x_test)"
   ]
  },
  {
   "cell_type": "code",
   "execution_count": 74,
   "id": "caring-search",
   "metadata": {},
   "outputs": [
    {
     "data": {
      "text/plain": [
       "(2246, 46)"
      ]
     },
     "execution_count": 74,
     "metadata": {},
     "output_type": "execute_result"
    }
   ],
   "source": [
    "predictions.shape"
   ]
  },
  {
   "cell_type": "code",
   "execution_count": 76,
   "id": "regulated-consideration",
   "metadata": {},
   "outputs": [
    {
     "data": {
      "text/plain": [
       "array([1.0000001 , 0.9999997 , 0.99999946, ..., 1.0000005 , 0.99999994,\n",
       "       0.9999999 ], dtype=float32)"
      ]
     },
     "execution_count": 76,
     "metadata": {},
     "output_type": "execute_result"
    }
   ],
   "source": [
    "predictions.sum(axis=1) # each row sums up to one over all 46 columns"
   ]
  },
  {
   "cell_type": "code",
   "execution_count": 77,
   "id": "talented-modeling",
   "metadata": {},
   "outputs": [
    {
     "data": {
      "text/plain": [
       "3"
      ]
     },
     "execution_count": 77,
     "metadata": {},
     "output_type": "execute_result"
    }
   ],
   "source": [
    "np.argmax(predictions[0]) # the column with the highest value -> class prediction"
   ]
  },
  {
   "cell_type": "code",
   "execution_count": 84,
   "id": "chief-intake",
   "metadata": {},
   "outputs": [],
   "source": [
    "y_train = np.array(train_labels)\n",
    "y_test = np.array(test_labels)\n",
    "\n",
    "partial_x_train, x_val, partial_y_train, y_val = train_test_split(x_train, y_train, train_size=0.8)"
   ]
  },
  {
   "cell_type": "code",
   "execution_count": 85,
   "id": "regulated-concept",
   "metadata": {},
   "outputs": [],
   "source": [
    "model.compile(optimizer='rmsprop',\n",
    "              loss='sparse_categorical_crossentropy',\n",
    "              metrics=['accuracy'])"
   ]
  },
  {
   "cell_type": "code",
   "execution_count": 87,
   "id": "coordinated-pulse",
   "metadata": {},
   "outputs": [
    {
     "name": "stdout",
     "output_type": "stream",
     "text": [
      "Epoch 1/9\n",
      "15/15 [==============================] - 0s 20ms/step - loss: 0.1189 - accuracy: 0.9598 - val_loss: 0.5752 - val_accuracy: 0.8798\n",
      "Epoch 2/9\n",
      "15/15 [==============================] - 0s 16ms/step - loss: 0.1151 - accuracy: 0.9616 - val_loss: 0.5898 - val_accuracy: 0.8731\n",
      "Epoch 3/9\n",
      "15/15 [==============================] - 0s 16ms/step - loss: 0.1113 - accuracy: 0.9609 - val_loss: 0.6007 - val_accuracy: 0.8831\n",
      "Epoch 4/9\n",
      "15/15 [==============================] - 0s 16ms/step - loss: 0.1043 - accuracy: 0.9626 - val_loss: 0.5947 - val_accuracy: 0.8859\n",
      "Epoch 5/9\n",
      "15/15 [==============================] - 0s 17ms/step - loss: 0.1017 - accuracy: 0.9613 - val_loss: 0.6230 - val_accuracy: 0.8815\n",
      "Epoch 6/9\n",
      "15/15 [==============================] - 0s 16ms/step - loss: 0.1005 - accuracy: 0.9613 - val_loss: 0.6533 - val_accuracy: 0.8804\n",
      "Epoch 7/9\n",
      "15/15 [==============================] - 0s 16ms/step - loss: 0.1010 - accuracy: 0.9624 - val_loss: 0.6643 - val_accuracy: 0.8753\n",
      "Epoch 8/9\n",
      "15/15 [==============================] - 0s 16ms/step - loss: 0.0942 - accuracy: 0.9637 - val_loss: 0.7465 - val_accuracy: 0.8620\n",
      "Epoch 9/9\n",
      "15/15 [==============================] - 0s 14ms/step - loss: 0.0967 - accuracy: 0.9601 - val_loss: 0.6908 - val_accuracy: 0.8742\n",
      "71/71 [==============================] - 0s 986us/step - loss: 1.2929 - accuracy: 0.7854\n"
     ]
    }
   ],
   "source": [
    "model.fit(partial_x_train,\n",
    "          partial_y_train,\n",
    "          epochs=9,\n",
    "          batch_size=512,\n",
    "          validation_data=(x_val, y_val))\n",
    "results = model.evaluate(x_test, y_test, return_dict=True)"
   ]
  },
  {
   "cell_type": "code",
   "execution_count": 88,
   "id": "available-attitude",
   "metadata": {},
   "outputs": [
    {
     "data": {
      "text/plain": [
       "{'loss': 1.2929179668426514, 'accuracy': 0.7853962779045105}"
      ]
     },
     "execution_count": 88,
     "metadata": {},
     "output_type": "execute_result"
    }
   ],
   "source": [
    "results"
   ]
  },
  {
   "cell_type": "code",
   "execution_count": 101,
   "id": "above-honor",
   "metadata": {},
   "outputs": [
    {
     "name": "stdout",
     "output_type": "stream",
     "text": [
      "Epoch 1/20\n",
      "15/15 [==============================] - 1s 26ms/step - loss: 3.6780 - accuracy: 0.0444 - val_loss: 3.3713 - val_accuracy: 0.0913\n",
      "Epoch 2/20\n",
      "15/15 [==============================] - 0s 17ms/step - loss: 3.2140 - accuracy: 0.1055 - val_loss: 3.0880 - val_accuracy: 0.3623\n",
      "Epoch 3/20\n",
      "15/15 [==============================] - 0s 17ms/step - loss: 2.8435 - accuracy: 0.4143 - val_loss: 2.8096 - val_accuracy: 0.3779\n",
      "Epoch 4/20\n",
      "15/15 [==============================] - 0s 16ms/step - loss: 2.5337 - accuracy: 0.4213 - val_loss: 2.5446 - val_accuracy: 0.3829\n",
      "Epoch 5/20\n",
      "15/15 [==============================] - 0s 17ms/step - loss: 2.2474 - accuracy: 0.4392 - val_loss: 2.3722 - val_accuracy: 0.3973\n",
      "Epoch 6/20\n",
      "15/15 [==============================] - 0s 16ms/step - loss: 2.0583 - accuracy: 0.4436 - val_loss: 2.2132 - val_accuracy: 0.4046\n",
      "Epoch 7/20\n",
      "15/15 [==============================] - 0s 16ms/step - loss: 1.8571 - accuracy: 0.4784 - val_loss: 2.0714 - val_accuracy: 0.4407\n",
      "Epoch 8/20\n",
      "15/15 [==============================] - 0s 16ms/step - loss: 1.7039 - accuracy: 0.5062 - val_loss: 1.9126 - val_accuracy: 0.4908\n",
      "Epoch 9/20\n",
      "15/15 [==============================] - 0s 17ms/step - loss: 1.4846 - accuracy: 0.6591 - val_loss: 1.7657 - val_accuracy: 0.6227\n",
      "Epoch 10/20\n",
      "15/15 [==============================] - 0s 17ms/step - loss: 1.3120 - accuracy: 0.7212 - val_loss: 1.6348 - val_accuracy: 0.6427\n",
      "Epoch 11/20\n",
      "15/15 [==============================] - 0s 16ms/step - loss: 1.1959 - accuracy: 0.7361 - val_loss: 1.5726 - val_accuracy: 0.6522\n",
      "Epoch 12/20\n",
      "15/15 [==============================] - 0s 16ms/step - loss: 1.1009 - accuracy: 0.7433 - val_loss: 1.5066 - val_accuracy: 0.6617\n",
      "Epoch 13/20\n",
      "15/15 [==============================] - 0s 18ms/step - loss: 1.0179 - accuracy: 0.7572 - val_loss: 1.5132 - val_accuracy: 0.6706\n",
      "Epoch 14/20\n",
      "15/15 [==============================] - 0s 17ms/step - loss: 0.9789 - accuracy: 0.7627 - val_loss: 1.4714 - val_accuracy: 0.6767\n",
      "Epoch 15/20\n",
      "15/15 [==============================] - 0s 16ms/step - loss: 0.9076 - accuracy: 0.7785 - val_loss: 1.4595 - val_accuracy: 0.6828\n",
      "Epoch 16/20\n",
      "15/15 [==============================] - 0s 16ms/step - loss: 0.8728 - accuracy: 0.7818 - val_loss: 1.4663 - val_accuracy: 0.6873\n",
      "Epoch 17/20\n",
      "15/15 [==============================] - 0s 18ms/step - loss: 0.8133 - accuracy: 0.7956 - val_loss: 1.4626 - val_accuracy: 0.6962\n",
      "Epoch 18/20\n",
      "15/15 [==============================] - 0s 17ms/step - loss: 0.7920 - accuracy: 0.7985 - val_loss: 1.4601 - val_accuracy: 0.6973\n",
      "Epoch 19/20\n",
      "15/15 [==============================] - 0s 16ms/step - loss: 0.7489 - accuracy: 0.8118 - val_loss: 1.4596 - val_accuracy: 0.6967\n",
      "Epoch 20/20\n",
      "15/15 [==============================] - 0s 14ms/step - loss: 0.7332 - accuracy: 0.8206 - val_loss: 1.4863 - val_accuracy: 0.6978\n",
      "71/71 [==============================] - 0s 1ms/step - loss: 1.5037 - accuracy: 0.6919\n"
     ]
    },
    {
     "data": {
      "text/plain": [
       "[1.503719449043274, 0.6918966770172119]"
      ]
     },
     "execution_count": 101,
     "metadata": {},
     "output_type": "execute_result"
    }
   ],
   "source": [
    "# lets see what happens if a layer becomes a bottleneck\n",
    "\n",
    "model = keras.Sequential([\n",
    "  keras.layers.Dense(64, activation='relu'),\n",
    "  keras.layers.Dense(4, activation='relu'),\n",
    "  keras.layers.Dense(46, activation='softmax')\n",
    "])\n",
    "model.compile(optimizer='rmsprop',\n",
    "              loss='categorical_crossentropy',\n",
    "              metrics=['accuracy'])\n",
    "model.fit(partial_x_train,\n",
    "          partial_y_train,\n",
    "          epochs=20,\n",
    "          batch_size=512,\n",
    "          validation_data=(x_val, y_val))\n",
    "model.evaluate(x_test, one_hot_test_labels)"
   ]
  },
  {
   "cell_type": "markdown",
   "id": "written-google",
   "metadata": {},
   "source": [
    "## Experiments"
   ]
  },
  {
   "cell_type": "code",
   "execution_count": 94,
   "id": "daily-uganda",
   "metadata": {},
   "outputs": [
    {
     "name": "stdout",
     "output_type": "stream",
     "text": [
      "Epoch 1/20\n",
      "15/15 [==============================] - 1s 31ms/step - loss: 2.8101 - accuracy: 0.3953 - val_loss: 1.8452 - val_accuracy: 0.4691\n",
      "Epoch 2/20\n",
      "15/15 [==============================] - 0s 21ms/step - loss: 1.2856 - accuracy: 0.6955 - val_loss: 1.2711 - val_accuracy: 0.7340\n",
      "Epoch 3/20\n",
      "15/15 [==============================] - 0s 23ms/step - loss: 0.9041 - accuracy: 0.8106 - val_loss: 1.0894 - val_accuracy: 0.7602\n",
      "Epoch 4/20\n",
      "15/15 [==============================] - 0s 21ms/step - loss: 0.6370 - accuracy: 0.8663 - val_loss: 1.1046 - val_accuracy: 0.7551\n",
      "Epoch 5/20\n",
      "15/15 [==============================] - 0s 21ms/step - loss: 0.4911 - accuracy: 0.8981 - val_loss: 1.0158 - val_accuracy: 0.8041\n",
      "Epoch 6/20\n",
      "15/15 [==============================] - 0s 23ms/step - loss: 0.3566 - accuracy: 0.9336 - val_loss: 1.1519 - val_accuracy: 0.7646\n",
      "Epoch 7/20\n",
      "15/15 [==============================] - 0s 21ms/step - loss: 0.3002 - accuracy: 0.9372 - val_loss: 1.1094 - val_accuracy: 0.7585\n",
      "Epoch 8/20\n",
      "15/15 [==============================] - 0s 21ms/step - loss: 0.2413 - accuracy: 0.9436 - val_loss: 1.0024 - val_accuracy: 0.7846\n",
      "Epoch 9/20\n",
      "15/15 [==============================] - 0s 23ms/step - loss: 0.1924 - accuracy: 0.9546 - val_loss: 1.0211 - val_accuracy: 0.7930\n",
      "Epoch 10/20\n",
      "15/15 [==============================] - 0s 21ms/step - loss: 0.1653 - accuracy: 0.9589 - val_loss: 1.0184 - val_accuracy: 0.7869\n",
      "Epoch 11/20\n",
      "15/15 [==============================] - 0s 22ms/step - loss: 0.1397 - accuracy: 0.9618 - val_loss: 1.1509 - val_accuracy: 0.7841\n",
      "Epoch 12/20\n",
      "15/15 [==============================] - 0s 23ms/step - loss: 0.1349 - accuracy: 0.9607 - val_loss: 1.0239 - val_accuracy: 0.8041\n",
      "Epoch 13/20\n",
      "15/15 [==============================] - 0s 21ms/step - loss: 0.1148 - accuracy: 0.9646 - val_loss: 1.0665 - val_accuracy: 0.7919\n",
      "Epoch 14/20\n",
      "15/15 [==============================] - 0s 21ms/step - loss: 0.1115 - accuracy: 0.9668 - val_loss: 1.3628 - val_accuracy: 0.7412\n",
      "Epoch 15/20\n",
      "15/15 [==============================] - 0s 23ms/step - loss: 0.1278 - accuracy: 0.9586 - val_loss: 1.0873 - val_accuracy: 0.7902\n",
      "Epoch 16/20\n",
      "15/15 [==============================] - 0s 22ms/step - loss: 0.1040 - accuracy: 0.9635 - val_loss: 1.0976 - val_accuracy: 0.8036\n",
      "Epoch 17/20\n",
      "15/15 [==============================] - 0s 22ms/step - loss: 0.1007 - accuracy: 0.9642 - val_loss: 1.1196 - val_accuracy: 0.7919\n",
      "Epoch 18/20\n",
      "15/15 [==============================] - 0s 23ms/step - loss: 0.0942 - accuracy: 0.9659 - val_loss: 1.2031 - val_accuracy: 0.7769\n",
      "Epoch 19/20\n",
      "15/15 [==============================] - 0s 21ms/step - loss: 0.0960 - accuracy: 0.9651 - val_loss: 1.2007 - val_accuracy: 0.7919\n",
      "Epoch 20/20\n",
      "15/15 [==============================] - 0s 20ms/step - loss: 0.0822 - accuracy: 0.9683 - val_loss: 1.1920 - val_accuracy: 0.7958\n",
      "71/71 [==============================] - 0s 1ms/step - loss: 1.3189 - accuracy: 0.7805\n"
     ]
    },
    {
     "data": {
      "text/plain": [
       "[1.3188791275024414, 0.7804986834526062]"
      ]
     },
     "execution_count": 94,
     "metadata": {},
     "output_type": "execute_result"
    }
   ],
   "source": [
    "# lets see what happens if a layer becomes a bottleneck\n",
    "\n",
    "model = keras.Sequential([\n",
    "  keras.layers.Dense(128, activation='relu'),\n",
    "  keras.layers.Dense(128, activation='relu'),\n",
    "  keras.layers.Dense(46, activation='softmax')\n",
    "])\n",
    "model.compile(optimizer='rmsprop',\n",
    "              loss='categorical_crossentropy',\n",
    "              metrics=['accuracy'])\n",
    "model.fit(partial_x_train,\n",
    "          partial_y_train,\n",
    "          epochs=20,\n",
    "          batch_size=512,\n",
    "          validation_data=(x_val, y_val))\n",
    "model.evaluate(x_test, one_hot_test_labels)"
   ]
  },
  {
   "cell_type": "code",
   "execution_count": 95,
   "id": "another-margin",
   "metadata": {},
   "outputs": [
    {
     "name": "stdout",
     "output_type": "stream",
     "text": [
      "Epoch 1/20\n",
      "15/15 [==============================] - 1s 21ms/step - loss: 3.4026 - accuracy: 0.3433 - val_loss: 2.3622 - val_accuracy: 0.5442\n",
      "Epoch 2/20\n",
      "15/15 [==============================] - 0s 11ms/step - loss: 2.0474 - accuracy: 0.6424 - val_loss: 1.7604 - val_accuracy: 0.6539\n",
      "Epoch 3/20\n",
      "15/15 [==============================] - 0s 12ms/step - loss: 1.5331 - accuracy: 0.6955 - val_loss: 1.5004 - val_accuracy: 0.6895\n",
      "Epoch 4/20\n",
      "15/15 [==============================] - 0s 11ms/step - loss: 1.2419 - accuracy: 0.7424 - val_loss: 1.3360 - val_accuracy: 0.7084\n",
      "Epoch 5/20\n",
      "15/15 [==============================] - 0s 12ms/step - loss: 1.0535 - accuracy: 0.7804 - val_loss: 1.2470 - val_accuracy: 0.7223\n",
      "Epoch 6/20\n",
      "15/15 [==============================] - 0s 11ms/step - loss: 0.9030 - accuracy: 0.8094 - val_loss: 1.1898 - val_accuracy: 0.7318\n",
      "Epoch 7/20\n",
      "15/15 [==============================] - 0s 11ms/step - loss: 0.7944 - accuracy: 0.8287 - val_loss: 1.2029 - val_accuracy: 0.7273\n",
      "Epoch 8/20\n",
      "15/15 [==============================] - 0s 13ms/step - loss: 0.6994 - accuracy: 0.8513 - val_loss: 1.1064 - val_accuracy: 0.7496\n",
      "Epoch 9/20\n",
      "15/15 [==============================] - 0s 11ms/step - loss: 0.6009 - accuracy: 0.8746 - val_loss: 1.0772 - val_accuracy: 0.7624\n",
      "Epoch 10/20\n",
      "15/15 [==============================] - 0s 12ms/step - loss: 0.5262 - accuracy: 0.8885 - val_loss: 1.1119 - val_accuracy: 0.7496\n",
      "Epoch 11/20\n",
      "15/15 [==============================] - 0s 12ms/step - loss: 0.4712 - accuracy: 0.9008 - val_loss: 1.0360 - val_accuracy: 0.7746\n",
      "Epoch 12/20\n",
      "15/15 [==============================] - 0s 12ms/step - loss: 0.4009 - accuracy: 0.9137 - val_loss: 1.0207 - val_accuracy: 0.7780\n",
      "Epoch 13/20\n",
      "15/15 [==============================] - 0s 12ms/step - loss: 0.3585 - accuracy: 0.9283 - val_loss: 1.0493 - val_accuracy: 0.7852\n",
      "Epoch 14/20\n",
      "15/15 [==============================] - 0s 12ms/step - loss: 0.3156 - accuracy: 0.9324 - val_loss: 1.0937 - val_accuracy: 0.7796\n",
      "Epoch 15/20\n",
      "15/15 [==============================] - 0s 12ms/step - loss: 0.3064 - accuracy: 0.9357 - val_loss: 1.0250 - val_accuracy: 0.7924\n",
      "Epoch 16/20\n",
      "15/15 [==============================] - 0s 12ms/step - loss: 0.2467 - accuracy: 0.9475 - val_loss: 1.0515 - val_accuracy: 0.7947\n",
      "Epoch 17/20\n",
      "15/15 [==============================] - 0s 11ms/step - loss: 0.2231 - accuracy: 0.9502 - val_loss: 1.0311 - val_accuracy: 0.7930\n",
      "Epoch 18/20\n",
      "15/15 [==============================] - 0s 12ms/step - loss: 0.2035 - accuracy: 0.9535 - val_loss: 1.0384 - val_accuracy: 0.7935\n",
      "Epoch 19/20\n",
      "15/15 [==============================] - 0s 13ms/step - loss: 0.1743 - accuracy: 0.9597 - val_loss: 1.1671 - val_accuracy: 0.7568\n",
      "Epoch 20/20\n",
      "15/15 [==============================] - 0s 10ms/step - loss: 0.1623 - accuracy: 0.9622 - val_loss: 1.0619 - val_accuracy: 0.7863\n",
      "71/71 [==============================] - 0s 929us/step - loss: 1.0692 - accuracy: 0.7845\n"
     ]
    },
    {
     "data": {
      "text/plain": [
       "[1.0691677331924438, 0.7845057845115662]"
      ]
     },
     "execution_count": 95,
     "metadata": {},
     "output_type": "execute_result"
    }
   ],
   "source": [
    "# lets see what happens if a layer becomes a bottleneck\n",
    "\n",
    "model = keras.Sequential([\n",
    "  keras.layers.Dense(32, activation='relu'),\n",
    "  keras.layers.Dense(32, activation='relu'),\n",
    "  keras.layers.Dense(46, activation='softmax')\n",
    "])\n",
    "model.compile(optimizer='rmsprop',\n",
    "              loss='categorical_crossentropy',\n",
    "              metrics=['accuracy'])\n",
    "model.fit(partial_x_train,\n",
    "          partial_y_train,\n",
    "          epochs=20,\n",
    "          batch_size=512,\n",
    "          validation_data=(x_val, y_val))\n",
    "model.evaluate(x_test, one_hot_test_labels)"
   ]
  },
  {
   "cell_type": "code",
   "execution_count": 96,
   "id": "dominican-trail",
   "metadata": {},
   "outputs": [
    {
     "name": "stdout",
     "output_type": "stream",
     "text": [
      "Epoch 1/20\n",
      "15/15 [==============================] - 1s 19ms/step - loss: 3.5475 - accuracy: 0.0806 - val_loss: 3.0506 - val_accuracy: 0.4719\n",
      "Epoch 2/20\n",
      "15/15 [==============================] - 0s 10ms/step - loss: 2.9092 - accuracy: 0.5862 - val_loss: 2.5924 - val_accuracy: 0.5754\n",
      "Epoch 3/20\n",
      "15/15 [==============================] - 0s 10ms/step - loss: 2.3931 - accuracy: 0.6346 - val_loss: 2.1878 - val_accuracy: 0.6060\n",
      "Epoch 4/20\n",
      "15/15 [==============================] - 0s 10ms/step - loss: 1.9869 - accuracy: 0.6486 - val_loss: 1.8936 - val_accuracy: 0.6188\n",
      "Epoch 5/20\n",
      "15/15 [==============================] - 0s 10ms/step - loss: 1.6993 - accuracy: 0.6577 - val_loss: 1.7143 - val_accuracy: 0.6183\n",
      "Epoch 6/20\n",
      "15/15 [==============================] - 0s 10ms/step - loss: 1.4739 - accuracy: 0.6823 - val_loss: 1.5605 - val_accuracy: 0.6388\n",
      "Epoch 7/20\n",
      "15/15 [==============================] - 0s 10ms/step - loss: 1.3135 - accuracy: 0.7075 - val_loss: 1.4690 - val_accuracy: 0.6667\n",
      "Epoch 8/20\n",
      "15/15 [==============================] - 0s 9ms/step - loss: 1.2163 - accuracy: 0.7322 - val_loss: 1.3830 - val_accuracy: 0.6895\n",
      "Epoch 9/20\n",
      "15/15 [==============================] - 0s 10ms/step - loss: 1.0931 - accuracy: 0.7588 - val_loss: 1.3411 - val_accuracy: 0.6934\n",
      "Epoch 10/20\n",
      "15/15 [==============================] - 0s 10ms/step - loss: 1.0237 - accuracy: 0.7654 - val_loss: 1.2992 - val_accuracy: 0.6995\n",
      "Epoch 11/20\n",
      "15/15 [==============================] - 0s 10ms/step - loss: 0.9542 - accuracy: 0.7808 - val_loss: 1.2588 - val_accuracy: 0.7078\n",
      "Epoch 12/20\n",
      "15/15 [==============================] - 0s 10ms/step - loss: 0.8870 - accuracy: 0.7915 - val_loss: 1.2228 - val_accuracy: 0.7179\n",
      "Epoch 13/20\n",
      "15/15 [==============================] - 0s 10ms/step - loss: 0.8346 - accuracy: 0.8049 - val_loss: 1.2062 - val_accuracy: 0.7190\n",
      "Epoch 14/20\n",
      "15/15 [==============================] - 0s 10ms/step - loss: 0.7698 - accuracy: 0.8227 - val_loss: 1.1709 - val_accuracy: 0.7284\n",
      "Epoch 15/20\n",
      "15/15 [==============================] - 0s 10ms/step - loss: 0.7230 - accuracy: 0.8315 - val_loss: 1.1537 - val_accuracy: 0.7390\n",
      "Epoch 16/20\n",
      "15/15 [==============================] - 0s 10ms/step - loss: 0.6626 - accuracy: 0.8448 - val_loss: 1.1555 - val_accuracy: 0.7379\n",
      "Epoch 17/20\n",
      "15/15 [==============================] - 0s 10ms/step - loss: 0.6137 - accuracy: 0.8595 - val_loss: 1.1554 - val_accuracy: 0.7362\n",
      "Epoch 18/20\n",
      "15/15 [==============================] - 0s 10ms/step - loss: 0.5624 - accuracy: 0.8647 - val_loss: 1.1210 - val_accuracy: 0.7518\n",
      "Epoch 19/20\n",
      "15/15 [==============================] - 0s 10ms/step - loss: 0.5275 - accuracy: 0.8783 - val_loss: 1.1138 - val_accuracy: 0.7585\n",
      "Epoch 20/20\n",
      "15/15 [==============================] - 0s 8ms/step - loss: 0.4723 - accuracy: 0.8919 - val_loss: 1.1017 - val_accuracy: 0.7663\n",
      "71/71 [==============================] - 0s 943us/step - loss: 1.1228 - accuracy: 0.7600\n"
     ]
    },
    {
     "data": {
      "text/plain": [
       "[1.1228015422821045, 0.7600178122520447]"
      ]
     },
     "execution_count": 96,
     "metadata": {},
     "output_type": "execute_result"
    }
   ],
   "source": [
    "# lets see what happens if a layer becomes a bottleneck\n",
    "\n",
    "model = keras.Sequential([\n",
    "  keras.layers.Dense(16, activation='relu'),\n",
    "  keras.layers.Dense(16, activation='relu'),\n",
    "  keras.layers.Dense(46, activation='softmax')\n",
    "])\n",
    "model.compile(optimizer='rmsprop',\n",
    "              loss='categorical_crossentropy',\n",
    "              metrics=['accuracy'])\n",
    "model.fit(partial_x_train,\n",
    "          partial_y_train,\n",
    "          epochs=20,\n",
    "          batch_size=512,\n",
    "          validation_data=(x_val, y_val))\n",
    "model.evaluate(x_test, one_hot_test_labels)"
   ]
  },
  {
   "cell_type": "code",
   "execution_count": 97,
   "id": "compound-dependence",
   "metadata": {},
   "outputs": [
    {
     "name": "stdout",
     "output_type": "stream",
     "text": [
      "Epoch 1/20\n",
      "15/15 [==============================] - 1s 20ms/step - loss: 3.7322 - accuracy: 0.0836 - val_loss: 3.4702 - val_accuracy: 0.2604\n",
      "Epoch 2/20\n",
      "15/15 [==============================] - 0s 10ms/step - loss: 3.4185 - accuracy: 0.2438 - val_loss: 3.2285 - val_accuracy: 0.2615\n",
      "Epoch 3/20\n",
      "15/15 [==============================] - 0s 10ms/step - loss: 3.1729 - accuracy: 0.2425 - val_loss: 3.0002 - val_accuracy: 0.2666\n",
      "Epoch 4/20\n",
      "15/15 [==============================] - 0s 10ms/step - loss: 2.9112 - accuracy: 0.2546 - val_loss: 2.7932 - val_accuracy: 0.2922\n",
      "Epoch 5/20\n",
      "15/15 [==============================] - 0s 10ms/step - loss: 2.7154 - accuracy: 0.3331 - val_loss: 2.5999 - val_accuracy: 0.4814\n",
      "Epoch 6/20\n",
      "15/15 [==============================] - 0s 10ms/step - loss: 2.5222 - accuracy: 0.5118 - val_loss: 2.4324 - val_accuracy: 0.5364\n",
      "Epoch 7/20\n",
      "15/15 [==============================] - 0s 10ms/step - loss: 2.3265 - accuracy: 0.5542 - val_loss: 2.2814 - val_accuracy: 0.5576\n",
      "Epoch 8/20\n",
      "15/15 [==============================] - 0s 10ms/step - loss: 2.1449 - accuracy: 0.5917 - val_loss: 2.1498 - val_accuracy: 0.5782\n",
      "Epoch 9/20\n",
      "15/15 [==============================] - 0s 10ms/step - loss: 2.0171 - accuracy: 0.6073 - val_loss: 2.0364 - val_accuracy: 0.5704\n",
      "Epoch 10/20\n",
      "15/15 [==============================] - 0s 10ms/step - loss: 1.8954 - accuracy: 0.6125 - val_loss: 1.9322 - val_accuracy: 0.5765\n",
      "Epoch 11/20\n",
      "15/15 [==============================] - 0s 10ms/step - loss: 1.7866 - accuracy: 0.6142 - val_loss: 1.8410 - val_accuracy: 0.5893\n",
      "Epoch 12/20\n",
      "15/15 [==============================] - 0s 10ms/step - loss: 1.6645 - accuracy: 0.6277 - val_loss: 1.7671 - val_accuracy: 0.5899\n",
      "Epoch 13/20\n",
      "15/15 [==============================] - 0s 10ms/step - loss: 1.5728 - accuracy: 0.6309 - val_loss: 1.7105 - val_accuracy: 0.5960\n",
      "Epoch 14/20\n",
      "15/15 [==============================] - 0s 10ms/step - loss: 1.4957 - accuracy: 0.6416 - val_loss: 1.6625 - val_accuracy: 0.5999\n",
      "Epoch 15/20\n",
      "15/15 [==============================] - 0s 10ms/step - loss: 1.3989 - accuracy: 0.6636 - val_loss: 1.6176 - val_accuracy: 0.6082\n",
      "Epoch 16/20\n",
      "15/15 [==============================] - 0s 10ms/step - loss: 1.3606 - accuracy: 0.6675 - val_loss: 1.5800 - val_accuracy: 0.6138\n",
      "Epoch 17/20\n",
      "15/15 [==============================] - 0s 10ms/step - loss: 1.3381 - accuracy: 0.6765 - val_loss: 1.5482 - val_accuracy: 0.6227\n",
      "Epoch 18/20\n",
      "15/15 [==============================] - 0s 10ms/step - loss: 1.2464 - accuracy: 0.6995 - val_loss: 1.5214 - val_accuracy: 0.6355\n",
      "Epoch 19/20\n",
      "15/15 [==============================] - 0s 10ms/step - loss: 1.2417 - accuracy: 0.7072 - val_loss: 1.4997 - val_accuracy: 0.6388\n",
      "Epoch 20/20\n",
      "15/15 [==============================] - 0s 8ms/step - loss: 1.1678 - accuracy: 0.7242 - val_loss: 1.4762 - val_accuracy: 0.6516\n",
      "71/71 [==============================] - 0s 929us/step - loss: 1.4863 - accuracy: 0.6652\n"
     ]
    },
    {
     "data": {
      "text/plain": [
       "[1.4862538576126099, 0.6651825308799744]"
      ]
     },
     "execution_count": 97,
     "metadata": {},
     "output_type": "execute_result"
    }
   ],
   "source": [
    "# lets see what happens if a layer becomes a bottleneck\n",
    "\n",
    "model = keras.Sequential([\n",
    "  keras.layers.Dense(6, activation='relu'),\n",
    "  keras.layers.Dense(6, activation='relu'),\n",
    "  keras.layers.Dense(46, activation='softmax')\n",
    "])\n",
    "model.compile(optimizer='rmsprop',\n",
    "              loss='categorical_crossentropy',\n",
    "              metrics=['accuracy'])\n",
    "model.fit(partial_x_train,\n",
    "          partial_y_train,\n",
    "          epochs=20,\n",
    "          batch_size=512,\n",
    "          validation_data=(x_val, y_val))\n",
    "model.evaluate(x_test, one_hot_test_labels)"
   ]
  },
  {
   "cell_type": "code",
   "execution_count": 98,
   "id": "silver-footage",
   "metadata": {},
   "outputs": [
    {
     "name": "stdout",
     "output_type": "stream",
     "text": [
      "Epoch 1/20\n",
      "15/15 [==============================] - 1s 26ms/step - loss: 3.0594 - accuracy: 0.4398 - val_loss: 1.9008 - val_accuracy: 0.6233\n",
      "Epoch 2/20\n",
      "15/15 [==============================] - 0s 16ms/step - loss: 1.6043 - accuracy: 0.6959 - val_loss: 1.4996 - val_accuracy: 0.6656\n",
      "Epoch 3/20\n",
      "15/15 [==============================] - 0s 16ms/step - loss: 1.1636 - accuracy: 0.7629 - val_loss: 1.2541 - val_accuracy: 0.7429\n",
      "Epoch 4/20\n",
      "15/15 [==============================] - 0s 16ms/step - loss: 0.8945 - accuracy: 0.8255 - val_loss: 1.1538 - val_accuracy: 0.7507\n",
      "Epoch 5/20\n",
      "15/15 [==============================] - 0s 16ms/step - loss: 0.7317 - accuracy: 0.8518 - val_loss: 1.0661 - val_accuracy: 0.7663\n",
      "Epoch 6/20\n",
      "15/15 [==============================] - 0s 16ms/step - loss: 0.6215 - accuracy: 0.8782 - val_loss: 1.0800 - val_accuracy: 0.7440\n",
      "Epoch 7/20\n",
      "15/15 [==============================] - 0s 16ms/step - loss: 0.5086 - accuracy: 0.8993 - val_loss: 0.9679 - val_accuracy: 0.7974\n",
      "Epoch 8/20\n",
      "15/15 [==============================] - 0s 16ms/step - loss: 0.4113 - accuracy: 0.9221 - val_loss: 0.9380 - val_accuracy: 0.7991\n",
      "Epoch 9/20\n",
      "15/15 [==============================] - 0s 16ms/step - loss: 0.3529 - accuracy: 0.9300 - val_loss: 0.9103 - val_accuracy: 0.7986\n",
      "Epoch 10/20\n",
      "15/15 [==============================] - 0s 17ms/step - loss: 0.2920 - accuracy: 0.9441 - val_loss: 0.9136 - val_accuracy: 0.8130\n",
      "Epoch 11/20\n",
      "15/15 [==============================] - 0s 16ms/step - loss: 0.2479 - accuracy: 0.9495 - val_loss: 0.8964 - val_accuracy: 0.8114\n",
      "Epoch 12/20\n",
      "15/15 [==============================] - 0s 16ms/step - loss: 0.2184 - accuracy: 0.9528 - val_loss: 0.8979 - val_accuracy: 0.8041\n",
      "Epoch 13/20\n",
      "15/15 [==============================] - 0s 16ms/step - loss: 0.1980 - accuracy: 0.9542 - val_loss: 0.9043 - val_accuracy: 0.8075\n",
      "Epoch 14/20\n",
      "15/15 [==============================] - 0s 16ms/step - loss: 0.1661 - accuracy: 0.9575 - val_loss: 0.9060 - val_accuracy: 0.8047\n",
      "Epoch 15/20\n",
      "15/15 [==============================] - 0s 16ms/step - loss: 0.1455 - accuracy: 0.9613 - val_loss: 0.9122 - val_accuracy: 0.8141\n",
      "Epoch 16/20\n",
      "15/15 [==============================] - 0s 16ms/step - loss: 0.1344 - accuracy: 0.9608 - val_loss: 0.9235 - val_accuracy: 0.8080\n",
      "Epoch 17/20\n",
      "15/15 [==============================] - 0s 16ms/step - loss: 0.1251 - accuracy: 0.9622 - val_loss: 0.9442 - val_accuracy: 0.8102\n",
      "Epoch 18/20\n",
      "15/15 [==============================] - 0s 16ms/step - loss: 0.1126 - accuracy: 0.9659 - val_loss: 0.9837 - val_accuracy: 0.7947\n",
      "Epoch 19/20\n",
      "15/15 [==============================] - 0s 16ms/step - loss: 0.1115 - accuracy: 0.9635 - val_loss: 0.9813 - val_accuracy: 0.8002\n",
      "Epoch 20/20\n",
      "15/15 [==============================] - 0s 14ms/step - loss: 0.0977 - accuracy: 0.9637 - val_loss: 0.9900 - val_accuracy: 0.8008\n",
      "71/71 [==============================] - 0s 971us/step - loss: 1.0378 - accuracy: 0.7930\n"
     ]
    },
    {
     "data": {
      "text/plain": [
       "[1.0377956628799438, 0.792965292930603]"
      ]
     },
     "execution_count": 98,
     "metadata": {},
     "output_type": "execute_result"
    }
   ],
   "source": [
    "# lets see what happens if a layer becomes a bottleneck\n",
    "\n",
    "model = keras.Sequential([\n",
    "  #keras.layers.Dense(128, activation='relu'),\n",
    "  keras.layers.Dense(64, activation='relu'),\n",
    "  keras.layers.Dense(46, activation='softmax')\n",
    "])\n",
    "model.compile(optimizer='rmsprop',\n",
    "              loss='categorical_crossentropy',\n",
    "              metrics=['accuracy'])\n",
    "model.fit(partial_x_train,\n",
    "          partial_y_train,\n",
    "          epochs=20,\n",
    "          batch_size=512,\n",
    "          validation_data=(x_val, y_val))\n",
    "model.evaluate(x_test, one_hot_test_labels)"
   ]
  },
  {
   "cell_type": "code",
   "execution_count": 99,
   "id": "intermediate-coordinator",
   "metadata": {},
   "outputs": [
    {
     "name": "stdout",
     "output_type": "stream",
     "text": [
      "Epoch 1/20\n",
      "15/15 [==============================] - 1s 28ms/step - loss: 3.2323 - accuracy: 0.3840 - val_loss: 1.8331 - val_accuracy: 0.6055\n",
      "Epoch 2/20\n",
      "15/15 [==============================] - 0s 17ms/step - loss: 1.5740 - accuracy: 0.6769 - val_loss: 1.4306 - val_accuracy: 0.6761\n",
      "Epoch 3/20\n",
      "15/15 [==============================] - 0s 17ms/step - loss: 1.1583 - accuracy: 0.7361 - val_loss: 1.2673 - val_accuracy: 0.7162\n",
      "Epoch 4/20\n",
      "15/15 [==============================] - 0s 17ms/step - loss: 0.9109 - accuracy: 0.7921 - val_loss: 1.2336 - val_accuracy: 0.7095\n",
      "Epoch 5/20\n",
      "15/15 [==============================] - 0s 17ms/step - loss: 0.7663 - accuracy: 0.8278 - val_loss: 1.2479 - val_accuracy: 0.7290\n",
      "Epoch 6/20\n",
      "15/15 [==============================] - 0s 19ms/step - loss: 0.6304 - accuracy: 0.8595 - val_loss: 1.4294 - val_accuracy: 0.6633\n",
      "Epoch 7/20\n",
      "15/15 [==============================] - 0s 17ms/step - loss: 0.5419 - accuracy: 0.8719 - val_loss: 1.1225 - val_accuracy: 0.7557\n",
      "Epoch 8/20\n",
      "15/15 [==============================] - 0s 17ms/step - loss: 0.4177 - accuracy: 0.9109 - val_loss: 1.2132 - val_accuracy: 0.7412\n",
      "Epoch 9/20\n",
      "15/15 [==============================] - 0s 18ms/step - loss: 0.3581 - accuracy: 0.9179 - val_loss: 1.5889 - val_accuracy: 0.6544\n",
      "Epoch 10/20\n",
      "15/15 [==============================] - 0s 17ms/step - loss: 0.3668 - accuracy: 0.9139 - val_loss: 1.0903 - val_accuracy: 0.7819\n",
      "Epoch 11/20\n",
      "15/15 [==============================] - 0s 16ms/step - loss: 0.2564 - accuracy: 0.9460 - val_loss: 1.2753 - val_accuracy: 0.7396\n",
      "Epoch 12/20\n",
      "15/15 [==============================] - 0s 16ms/step - loss: 0.2346 - accuracy: 0.9510 - val_loss: 1.0872 - val_accuracy: 0.7924\n",
      "Epoch 13/20\n",
      "15/15 [==============================] - 0s 17ms/step - loss: 0.1761 - accuracy: 0.9598 - val_loss: 1.1479 - val_accuracy: 0.7891\n",
      "Epoch 14/20\n",
      "15/15 [==============================] - 0s 18ms/step - loss: 0.1653 - accuracy: 0.9594 - val_loss: 1.1726 - val_accuracy: 0.7841\n",
      "Epoch 15/20\n",
      "15/15 [==============================] - 0s 17ms/step - loss: 0.1445 - accuracy: 0.9621 - val_loss: 1.5343 - val_accuracy: 0.7229\n",
      "Epoch 16/20\n",
      "15/15 [==============================] - 0s 17ms/step - loss: 0.1746 - accuracy: 0.9550 - val_loss: 1.1873 - val_accuracy: 0.7913\n",
      "Epoch 17/20\n",
      "15/15 [==============================] - 0s 18ms/step - loss: 0.1265 - accuracy: 0.9613 - val_loss: 1.3283 - val_accuracy: 0.7785\n",
      "Epoch 18/20\n",
      "15/15 [==============================] - 0s 17ms/step - loss: 0.1142 - accuracy: 0.9644 - val_loss: 1.4141 - val_accuracy: 0.7674\n",
      "Epoch 19/20\n",
      "15/15 [==============================] - 0s 16ms/step - loss: 0.1173 - accuracy: 0.9652 - val_loss: 1.2442 - val_accuracy: 0.7896\n",
      "Epoch 20/20\n",
      "15/15 [==============================] - 0s 15ms/step - loss: 0.1074 - accuracy: 0.9641 - val_loss: 1.4228 - val_accuracy: 0.7724\n",
      "71/71 [==============================] - 0s 1ms/step - loss: 1.4224 - accuracy: 0.7569\n"
     ]
    },
    {
     "data": {
      "text/plain": [
       "[1.422398567199707, 0.7569011449813843]"
      ]
     },
     "execution_count": 99,
     "metadata": {},
     "output_type": "execute_result"
    }
   ],
   "source": [
    "# lets see what happens if a layer becomes a bottleneck\n",
    "\n",
    "model = keras.Sequential([\n",
    "  keras.layers.Dense(64, activation='relu'),\n",
    "  keras.layers.Dense(64, activation='relu'),\n",
    "  keras.layers.Dense(64, activation='relu'),\n",
    "  keras.layers.Dense(46, activation='softmax')\n",
    "])\n",
    "model.compile(optimizer='rmsprop',\n",
    "              loss='categorical_crossentropy',\n",
    "              metrics=['accuracy'])\n",
    "model.fit(partial_x_train,\n",
    "          partial_y_train,\n",
    "          epochs=20,\n",
    "          batch_size=512,\n",
    "          validation_data=(x_val, y_val))\n",
    "model.evaluate(x_test, one_hot_test_labels)"
   ]
  },
  {
   "cell_type": "code",
   "execution_count": 100,
   "id": "drawn-hardwood",
   "metadata": {},
   "outputs": [
    {
     "name": "stdout",
     "output_type": "stream",
     "text": [
      "Epoch 1/20\n",
      "15/15 [==============================] - 1s 31ms/step - loss: 3.0752 - accuracy: 0.4127 - val_loss: 1.7575 - val_accuracy: 0.5843\n",
      "Epoch 2/20\n",
      "15/15 [==============================] - 0s 21ms/step - loss: 1.4878 - accuracy: 0.6847 - val_loss: 1.3841 - val_accuracy: 0.6973\n",
      "Epoch 3/20\n",
      "15/15 [==============================] - 0s 21ms/step - loss: 1.0778 - accuracy: 0.7638 - val_loss: 1.2736 - val_accuracy: 0.7206\n",
      "Epoch 4/20\n",
      "15/15 [==============================] - 0s 23ms/step - loss: 0.8789 - accuracy: 0.8067 - val_loss: 1.2137 - val_accuracy: 0.7474\n",
      "Epoch 5/20\n",
      "15/15 [==============================] - 0s 21ms/step - loss: 0.7095 - accuracy: 0.8441 - val_loss: 1.1213 - val_accuracy: 0.7563\n",
      "Epoch 6/20\n",
      "15/15 [==============================] - 0s 21ms/step - loss: 0.5595 - accuracy: 0.8755 - val_loss: 1.1569 - val_accuracy: 0.7457\n",
      "Epoch 7/20\n",
      "15/15 [==============================] - 0s 23ms/step - loss: 0.4411 - accuracy: 0.9005 - val_loss: 1.1925 - val_accuracy: 0.7468\n",
      "Epoch 8/20\n",
      "15/15 [==============================] - 0s 21ms/step - loss: 0.3799 - accuracy: 0.9164 - val_loss: 1.1560 - val_accuracy: 0.7674\n",
      "Epoch 9/20\n",
      "15/15 [==============================] - 0s 21ms/step - loss: 0.2976 - accuracy: 0.9356 - val_loss: 1.0965 - val_accuracy: 0.7869\n",
      "Epoch 10/20\n",
      "15/15 [==============================] - 0s 23ms/step - loss: 0.2520 - accuracy: 0.9484 - val_loss: 1.1292 - val_accuracy: 0.7835\n",
      "Epoch 11/20\n",
      "15/15 [==============================] - 0s 22ms/step - loss: 0.2042 - accuracy: 0.9524 - val_loss: 1.1864 - val_accuracy: 0.7624\n",
      "Epoch 12/20\n",
      "15/15 [==============================] - 0s 21ms/step - loss: 0.1747 - accuracy: 0.9571 - val_loss: 1.1439 - val_accuracy: 0.7896\n",
      "Epoch 13/20\n",
      "15/15 [==============================] - 0s 23ms/step - loss: 0.1481 - accuracy: 0.9639 - val_loss: 1.2175 - val_accuracy: 0.7863\n",
      "Epoch 14/20\n",
      "15/15 [==============================] - 0s 22ms/step - loss: 0.1478 - accuracy: 0.9613 - val_loss: 1.3692 - val_accuracy: 0.7579\n",
      "Epoch 15/20\n",
      "15/15 [==============================] - 0s 21ms/step - loss: 0.1440 - accuracy: 0.9636 - val_loss: 1.5979 - val_accuracy: 0.7206\n",
      "Epoch 16/20\n",
      "15/15 [==============================] - 0s 23ms/step - loss: 0.1481 - accuracy: 0.9572 - val_loss: 1.2150 - val_accuracy: 0.7908\n",
      "Epoch 17/20\n",
      "15/15 [==============================] - 0s 22ms/step - loss: 0.1167 - accuracy: 0.9639 - val_loss: 1.3382 - val_accuracy: 0.7724\n",
      "Epoch 18/20\n",
      "15/15 [==============================] - 0s 21ms/step - loss: 0.1094 - accuracy: 0.9653 - val_loss: 1.3371 - val_accuracy: 0.7557\n",
      "Epoch 19/20\n",
      "15/15 [==============================] - 0s 23ms/step - loss: 0.1092 - accuracy: 0.9686 - val_loss: 1.8090 - val_accuracy: 0.6989\n",
      "Epoch 20/20\n",
      "15/15 [==============================] - 0s 20ms/step - loss: 0.1506 - accuracy: 0.9522 - val_loss: 1.5512 - val_accuracy: 0.7440\n",
      "71/71 [==============================] - 0s 1ms/step - loss: 1.7045 - accuracy: 0.7364\n"
     ]
    },
    {
     "data": {
      "text/plain": [
       "[1.7044944763183594, 0.7364202737808228]"
      ]
     },
     "execution_count": 100,
     "metadata": {},
     "output_type": "execute_result"
    }
   ],
   "source": [
    "# lets see what happens if a layer becomes a bottleneck\n",
    "\n",
    "model = keras.Sequential([\n",
    "  keras.layers.Dense(128, activation='relu'),\n",
    "  keras.layers.Dense(64, activation='relu'),\n",
    "  keras.layers.Dense(32, activation='relu'),\n",
    "  keras.layers.Dense(46, activation='softmax')\n",
    "])\n",
    "model.compile(optimizer='rmsprop',\n",
    "              loss='categorical_crossentropy',\n",
    "              metrics=['accuracy'])\n",
    "model.fit(partial_x_train,\n",
    "          partial_y_train,\n",
    "          epochs=20,\n",
    "          batch_size=512,\n",
    "          validation_data=(x_val, y_val))\n",
    "model.evaluate(x_test, one_hot_test_labels)"
   ]
  },
  {
   "cell_type": "markdown",
   "id": "small-cutting",
   "metadata": {},
   "source": [
    "# Predicting house prices: Regression example with Boston Housing Price\n",
    "\n",
    "You’ll attempt to predict the median price of homes in a given Boston suburb in the mid-1970s, given data points about the suburb at the time, such as the crime rate, the local property tax rate, and so on. The dataset you’ll use has an interesting difference from the two previous examples. It has relatively few data points: only 506, split between 404 training samples and 102 test samples. And each feature in the input data (for example, the crime rate) has a different scale. For instance, some values are proportions, which take values between 0 and 1; others take values between 1 and 12, others between 0 and 100, and so on."
   ]
  },
  {
   "cell_type": "code",
   "execution_count": 157,
   "id": "oriented-sacramento",
   "metadata": {},
   "outputs": [],
   "source": [
    "from tensorflow.keras.datasets import boston_housing\n",
    "\n",
    "(train_data, train_targets), (test_data, test_targets) = boston_housing.load_data()"
   ]
  },
  {
   "cell_type": "code",
   "execution_count": 158,
   "id": "chicken-musician",
   "metadata": {},
   "outputs": [
    {
     "data": {
      "text/plain": [
       "((404, 13), (102, 13))"
      ]
     },
     "execution_count": 158,
     "metadata": {},
     "output_type": "execute_result"
    }
   ],
   "source": [
    "train_data.shape, test_data.shape"
   ]
  },
  {
   "cell_type": "code",
   "execution_count": 159,
   "id": "atlantic-tract",
   "metadata": {
    "scrolled": true
   },
   "outputs": [
    {
     "data": {
      "text/plain": [
       "array([15.2, 42.3, 50. , 21.1, 17.7, 18.5, 11.3, 15.6, 15.6, 14.4, 12.1,\n",
       "       17.9, 23.1, 19.9, 15.7,  8.8, 50. , 22.5, 24.1, 27.5, 10.9, 30.8,\n",
       "       32.9, 24. , 18.5, 13.3, 22.9, 34.7, 16.6, 17.5, 22.3, 16.1, 14.9,\n",
       "       23.1, 34.9, 25. , 13.9, 13.1, 20.4, 20. , 15.2, 24.7, 22.2, 16.7,\n",
       "       12.7, 15.6, 18.4, 21. , 30.1, 15.1, 18.7,  9.6, 31.5, 24.8, 19.1,\n",
       "       22. , 14.5, 11. , 32. , 29.4, 20.3, 24.4, 14.6, 19.5, 14.1, 14.3,\n",
       "       15.6, 10.5,  6.3, 19.3, 19.3, 13.4, 36.4, 17.8, 13.5, 16.5,  8.3,\n",
       "       14.3, 16. , 13.4, 28.6, 43.5, 20.2, 22. , 23. , 20.7, 12.5, 48.5,\n",
       "       14.6, 13.4, 23.7, 50. , 21.7, 39.8, 38.7, 22.2, 34.9, 22.5, 31.1,\n",
       "       28.7, 46. , 41.7, 21. , 26.6, 15. , 24.4, 13.3, 21.2, 11.7, 21.7,\n",
       "       19.4, 50. , 22.8, 19.7, 24.7, 36.2, 14.2, 18.9, 18.3, 20.6, 24.6,\n",
       "       18.2,  8.7, 44. , 10.4, 13.2, 21.2, 37. , 30.7, 22.9, 20. , 19.3,\n",
       "       31.7, 32. , 23.1, 18.8, 10.9, 50. , 19.6,  5. , 14.4, 19.8, 13.8,\n",
       "       19.6, 23.9, 24.5, 25. , 19.9, 17.2, 24.6, 13.5, 26.6, 21.4, 11.9,\n",
       "       22.6, 19.6,  8.5, 23.7, 23.1, 22.4, 20.5, 23.6, 18.4, 35.2, 23.1,\n",
       "       27.9, 20.6, 23.7, 28. , 13.6, 27.1, 23.6, 20.6, 18.2, 21.7, 17.1,\n",
       "        8.4, 25.3, 13.8, 22.2, 18.4, 20.7, 31.6, 30.5, 20.3,  8.8, 19.2,\n",
       "       19.4, 23.1, 23. , 14.8, 48.8, 22.6, 33.4, 21.1, 13.6, 32.2, 13.1,\n",
       "       23.4, 18.9, 23.9, 11.8, 23.3, 22.8, 19.6, 16.7, 13.4, 22.2, 20.4,\n",
       "       21.8, 26.4, 14.9, 24.1, 23.8, 12.3, 29.1, 21. , 19.5, 23.3, 23.8,\n",
       "       17.8, 11.5, 21.7, 19.9, 25. , 33.4, 28.5, 21.4, 24.3, 27.5, 33.1,\n",
       "       16.2, 23.3, 48.3, 22.9, 22.8, 13.1, 12.7, 22.6, 15. , 15.3, 10.5,\n",
       "       24. , 18.5, 21.7, 19.5, 33.2, 23.2,  5. , 19.1, 12.7, 22.3, 10.2,\n",
       "       13.9, 16.3, 17. , 20.1, 29.9, 17.2, 37.3, 45.4, 17.8, 23.2, 29. ,\n",
       "       22. , 18. , 17.4, 34.6, 20.1, 25. , 15.6, 24.8, 28.2, 21.2, 21.4,\n",
       "       23.8, 31. , 26.2, 17.4, 37.9, 17.5, 20. ,  8.3, 23.9,  8.4, 13.8,\n",
       "        7.2, 11.7, 17.1, 21.6, 50. , 16.1, 20.4, 20.6, 21.4, 20.6, 36.5,\n",
       "        8.5, 24.8, 10.8, 21.9, 17.3, 18.9, 36.2, 14.9, 18.2, 33.3, 21.8,\n",
       "       19.7, 31.6, 24.8, 19.4, 22.8,  7.5, 44.8, 16.8, 18.7, 50. , 50. ,\n",
       "       19.5, 20.1, 50. , 17.2, 20.8, 19.3, 41.3, 20.4, 20.5, 13.8, 16.5,\n",
       "       23.9, 20.6, 31.5, 23.3, 16.8, 14. , 33.8, 36.1, 12.8, 18.3, 18.7,\n",
       "       19.1, 29. , 30.1, 50. , 50. , 22. , 11.9, 37.6, 50. , 22.7, 20.8,\n",
       "       23.5, 27.9, 50. , 19.3, 23.9, 22.6, 15.2, 21.7, 19.2, 43.8, 20.3,\n",
       "       33.2, 19.9, 22.5, 32.7, 22. , 17.1, 19. , 15. , 16.1, 25.1, 23.7,\n",
       "       28.7, 37.2, 22.6, 16.4, 25. , 29.8, 22.1, 17.4, 18.1, 30.3, 17.5,\n",
       "       24.7, 12.6, 26.5, 28.7, 13.3, 10.4, 24.4, 23. , 20. , 17.8,  7. ,\n",
       "       11.8, 24.4, 13.8, 19.4, 25.2, 19.4, 19.4, 29.1])"
      ]
     },
     "execution_count": 159,
     "metadata": {},
     "output_type": "execute_result"
    }
   ],
   "source": [
    "# The targets are the median values of owner-occupied homes, in thousands of dollars:\n",
    "\n",
    "train_targets"
   ]
  },
  {
   "cell_type": "markdown",
   "id": "indirect-recorder",
   "metadata": {},
   "source": [
    "It would be problematic to feed into a neural network values that all take wildly different ranges. The model might be able to automatically adapt to such heterogeneous data, but it would definitely make learning more difficult. A widespread best practice to deal with such data is to do feature-wise normalization: for each feature in the input data (a column in the input data matrix), you subtract the mean of the feature and divide by the standard deviation, so that the feature is centered around 0 and has a unit standard deviation. This is easily done in NumPy."
   ]
  },
  {
   "cell_type": "code",
   "execution_count": 106,
   "id": "limited-digit",
   "metadata": {},
   "outputs": [],
   "source": [
    "mean = train_data.mean(axis=0)\n",
    "train_data -= mean\n",
    "std = train_data.std(axis=0)\n",
    "train_data /= std\n",
    "test_data -= mean\n",
    "test_data /= std"
   ]
  },
  {
   "cell_type": "markdown",
   "id": "wrong-scott",
   "metadata": {},
   "source": [
    "Note that the quantities used for normalizing the test data are computed using the training data. You should never use in your workflow any quantity computed on the test data, even for something as simple as data normalization."
   ]
  },
  {
   "cell_type": "markdown",
   "id": "informal-excerpt",
   "metadata": {},
   "source": [
    "## Building your model"
   ]
  },
  {
   "cell_type": "code",
   "execution_count": 160,
   "id": "fifth-recommendation",
   "metadata": {},
   "outputs": [],
   "source": [
    "def build_model():\n",
    "    model = keras.Sequential([\n",
    "      keras.layers.Dense(16, activation='relu'),\n",
    "      keras.layers.Dense(16, activation='relu'),\n",
    "      keras.layers.Dense(1)\n",
    "    ])\n",
    "    model.compile(optimizer='rmsprop', loss='mse', metrics=['mae'])\n",
    "    return model"
   ]
  },
  {
   "cell_type": "markdown",
   "id": "uniform-music",
   "metadata": {},
   "source": [
    "Note that you compile the model with the mse loss function — mean squared error, the square of the difference between the predictions and the targets. This is a widely used loss function for regression problems.\n",
    "\n",
    "You’re also monitoring a new metric during training: mean absolute error (MAE). It’s the absolute value of the difference between the predictions and the targets. For instance, an MAE of 0.5 on this problem would mean your predictions are off by $500 on average."
   ]
  },
  {
   "cell_type": "markdown",
   "id": "technological-julian",
   "metadata": {},
   "source": [
    "## cross-validation\n",
    "\n",
    "To evaluate your model while you keep adjusting its parameters (such as the number of epochs used for training), you could split the data into a training set and a validation set, as you did in the previous examples. But because you have so few data points, the validation set would end up being very small (for instance, about 100 examples). As a consequence, the validation scores might change a lot depending on which data points you chose to use for validation and which you chose for training: the validation scores might have a high variance with regard to the validation split. This would prevent you from reliably evaluating your model."
   ]
  },
  {
   "cell_type": "code",
   "execution_count": 161,
   "id": "hybrid-roller",
   "metadata": {},
   "outputs": [
    {
     "name": "stdout",
     "output_type": "stream",
     "text": [
      "processing fold 0.\n",
      "processing fold 1.\n",
      "processing fold 2.\n",
      "processing fold 3.\n"
     ]
    }
   ],
   "source": [
    "k = 4\n",
    "num_val_samples = len(train_data) // k\n",
    "num_epochs = 100\n",
    "all_scores = []\n",
    "for i in range(k):\n",
    "    print(f\"processing fold {i}.\")\n",
    "    val_data = train_data[i * num_val_samples: (i + 1) * num_val_samples]\n",
    "    val_targets = train_targets[i * num_val_samples: (i + 1) * num_val_samples]\n",
    "          \n",
    "    partial_train_data = np.concatenate(\n",
    "        [train_data[:i * num_val_samples],\n",
    "         train_data[(i + 1) * num_val_samples:]],\n",
    "        axis=0)\n",
    "          \n",
    "    partial_train_targets = np.concatenate(\n",
    "        [train_targets[:i * num_val_samples],\n",
    "         train_targets[(i + 1) * num_val_samples:]],\n",
    "        axis=0)\n",
    "          \n",
    "    model = build_model()\n",
    "    model.fit(partial_train_data, partial_train_targets,\n",
    "              epochs=num_epochs, batch_size=1, verbose=0)\n",
    "    val_mse, val_mae = model.evaluate(val_data, val_targets, verbose=0)\n",
    "    all_scores.append(val_mae)"
   ]
  },
  {
   "cell_type": "code",
   "execution_count": 162,
   "id": "bronze-refrigerator",
   "metadata": {},
   "outputs": [
    {
     "data": {
      "text/plain": [
       "([2.9108529090881348,\n",
       "  4.024935245513916,\n",
       "  3.0023016929626465,\n",
       "  3.9568631649017334],\n",
       " 3.4737382531166077)"
      ]
     },
     "execution_count": 162,
     "metadata": {},
     "output_type": "execute_result"
    }
   ],
   "source": [
    "all_scores, np.mean(all_scores)"
   ]
  },
  {
   "cell_type": "code",
   "execution_count": 111,
   "id": "convertible-nicaragua",
   "metadata": {},
   "outputs": [
    {
     "name": "stdout",
     "output_type": "stream",
     "text": [
      "processing fold 1.\n",
      "processing fold 2.\n",
      "processing fold 3.\n",
      "processing fold 4.\n"
     ]
    }
   ],
   "source": [
    "num_epochs = 500\n",
    "all_mae_histories = []\n",
    "for i in range(k):\n",
    "    print(f'processing fold {i+1}.')\n",
    "    val_data = train_data[i * num_val_samples: (i + 1) * num_val_samples]\n",
    "    val_targets = train_targets[i * num_val_samples: (i + 1) * num_val_samples]\n",
    "    \n",
    "    partial_train_data = np.concatenate(\n",
    "        [train_data[:i * num_val_samples],\n",
    "         train_data[(i + 1) * num_val_samples:]],\n",
    "        axis=0)\n",
    "    \n",
    "    partial_train_targets = np.concatenate(\n",
    "        [train_targets[:i * num_val_samples],\n",
    "         train_targets[(i + 1) * num_val_samples:]],\n",
    "        axis=0)\n",
    "    \n",
    "    model = build_model()\n",
    "    history = model.fit(partial_train_data, partial_train_targets,\n",
    "                        validation_data=(val_data, val_targets),\n",
    "                        epochs=num_epochs, batch_size=1, verbose=0)\n",
    "    mae_history = history.history['val_mae']\n",
    "    all_mae_histories.append(mae_history)"
   ]
  },
  {
   "cell_type": "code",
   "execution_count": 128,
   "id": "hawaiian-ethics",
   "metadata": {},
   "outputs": [],
   "source": [
    "all_mae_histories_array = np.array(all_mae_histories)\n",
    "average_mae_history = all_mae_histories_array.mean(axis=0)"
   ]
  },
  {
   "cell_type": "code",
   "execution_count": 129,
   "id": "english-unemployment",
   "metadata": {},
   "outputs": [
    {
     "data": {
      "text/plain": [
       "Text(0, 0.5, 'Validation MAE')"
      ]
     },
     "execution_count": 129,
     "metadata": {},
     "output_type": "execute_result"
    },
    {
     "data": {
      "image/png": "[encoded data removed]",
      "text/plain": [
       "<Figure size 432x288 with 1 Axes>"
      ]
     },
     "metadata": {
      "needs_background": "light"
     },
     "output_type": "display_data"
    }
   ],
   "source": [
    "plt.plot(average_mae_history)\n",
    "plt.xlabel('Epochs')\n",
    "plt.ylabel('Validation MAE')"
   ]
  },
  {
   "cell_type": "code",
   "execution_count": 153,
   "id": "knowing-compilation",
   "metadata": {},
   "outputs": [
    {
     "data": {
      "text/plain": [
       "Text(0, 0.5, 'Validation MAE')"
      ]
     },
     "execution_count": 153,
     "metadata": {},
     "output_type": "execute_result"
    },
    {
     "data": {
      "image/png": "[encoded data removed]",
      "text/plain": [
       "<Figure size 432x288 with 1 Axes>"
      ]
     },
     "metadata": {
      "needs_background": "light"
     },
     "output_type": "display_data"
    }
   ],
   "source": [
    "def smooth_curve(points, factor=0.9):\n",
    "    smoothed_points = np.zeros(points.shape)\n",
    "    smoothed_points[0] = points[0]\n",
    "    \n",
    "    for i, point in enumerate(points[1:], start=1):\n",
    "        previous = smoothed_points[i-1]\n",
    "        smoothed_points[i] = previous * factor + point * (1 - factor)\n",
    "    return smoothed_points\n",
    "\n",
    "smooth_mae_history = smooth_curve(average_mae_history[10:])\n",
    "plt.plot(smooth_mae_history)\n",
    "plt.xlabel('Epochs')\n",
    "plt.ylabel('Validation MAE')"
   ]
  },
  {
   "cell_type": "code",
   "execution_count": 155,
   "id": "infectious-sellers",
   "metadata": {},
   "outputs": [
    {
     "name": "stdout",
     "output_type": "stream",
     "text": [
      "4/4 [==============================] - 0s 666us/step - loss: 19.1621 - mae: 3.0012\n"
     ]
    }
   ],
   "source": [
    "model = build_model()\n",
    "model.fit(train_data, train_targets,\n",
    "          epochs=100, batch_size=16, verbose=0)\n",
    "test_mse_score, test_mae_score = model.evaluate(test_data, test_targets)"
   ]
  },
  {
   "cell_type": "code",
   "execution_count": 156,
   "id": "infrared-mexican",
   "metadata": {},
   "outputs": [
    {
     "data": {
      "text/plain": [
       "array([9.075513], dtype=float32)"
      ]
     },
     "execution_count": 156,
     "metadata": {},
     "output_type": "execute_result"
    }
   ],
   "source": [
    "predictions = model.predict(test_data)\n",
    "predictions[0]"
   ]
  },
  {
   "cell_type": "code",
   "execution_count": null,
   "id": "homeless-antique",
   "metadata": {},
   "outputs": [],
   "source": []
  }
 ],
 "metadata": {
  "kernelspec": {
   "display_name": "Python 3",
   "language": "python",
   "name": "python3"
  },
  "language_info": {
   "codemirror_mode": {
    "name": "ipython",
    "version": 3
   },
   "file_extension": ".py",
   "mimetype": "text/x-python",
   "name": "python",
   "nbconvert_exporter": "python",
   "pygments_lexer": "ipython3",
   "version": "3.8.6"
  }
 },
 "nbformat": 4,
 "nbformat_minor": 5
}
